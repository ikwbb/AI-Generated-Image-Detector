{
 "cells": [
  {
   "cell_type": "markdown",
   "id": "592068cf-be19-4a21-9cfb-40ea8ae86488",
   "metadata": {},
   "source": [
    "## AI-Generated-Image-Detector: A detector ensembled Swin-Transformer and CLIP"
   ]
  },
  {
   "cell_type": "markdown",
   "id": "1b587773-749f-4754-9a10-d924340a040b",
   "metadata": {},
   "source": [
    "This is a ensembled model, which include a Fine-Tuned Swin-Transformer and a CLIP Feature Classifier. The details is given by the following:"
   ]
  },
  {
   "cell_type": "markdown",
   "id": "dee4391f-452d-4a81-85e3-a35a2b73581e",
   "metadata": {},
   "source": [
    "### Requirements"
   ]
  },
  {
   "cell_type": "markdown",
   "id": "b3dce5fe-9394-49a7-931c-5daffbd8a237",
   "metadata": {},
   "source": [
    "The package `torch`, `torchvision`, `timm` and `clip` are required to be installed. The installation code is given by the following:"
   ]
  },
  {
   "cell_type": "code",
   "execution_count": null,
   "id": "1cce3a8a-82c3-4720-b8b9-ff410f07ad8b",
   "metadata": {},
   "outputs": [],
   "source": [
    "!pip install torch torchvision timm"
   ]
  },
  {
   "cell_type": "code",
   "execution_count": null,
   "id": "f3061d07-d4b7-405b-bd9f-89d1a53eb0bc",
   "metadata": {},
   "outputs": [],
   "source": [
    "!pip install git+https://github.com/openai/CLIP.git"
   ]
  },
  {
   "cell_type": "markdown",
   "id": "835c8fdd-818b-4357-8a0f-e3c60f11fc72",
   "metadata": {},
   "source": [
    "### Setup"
   ]
  },
  {
   "cell_type": "markdown",
   "id": "a6e18eb9-2471-4525-ba6a-f68f25939b14",
   "metadata": {},
   "source": [
    "The path of the dataset is needed to be modified:"
   ]
  },
  {
   "cell_type": "code",
   "execution_count": 3,
   "id": "0a0ec22a-9bfd-4f57-b083-df40e541fe0a",
   "metadata": {},
   "outputs": [],
   "source": [
    "dataset_path = \"./AIGC-Detection-Dataset\""
   ]
  },
  {
   "cell_type": "markdown",
   "id": "a6d0755c-125d-4849-83ff-aa89f611df63",
   "metadata": {},
   "source": [
    "### Reproduction Code: The part of Fine-Tuning Swin Transformer"
   ]
  },
  {
   "cell_type": "code",
   "execution_count": 7,
   "id": "72651ccb-3664-4945-86ea-491a6cb5f053",
   "metadata": {},
   "outputs": [],
   "source": [
    "import os\n",
    "\n",
    "save_dir = 'Fine_Tuned_Swin_Models'\n",
    "os.makedirs(save_dir, exist_ok=True) \n",
    "batch_size = 64\n",
    "num_epochs = 100\n",
    "model_name = \"swinv2_small_window16_256\""
   ]
  },
  {
   "cell_type": "code",
   "execution_count": 9,
   "id": "547d8048-6712-4762-b381-52905cb66519",
   "metadata": {},
   "outputs": [
    {
     "name": "stderr",
     "output_type": "stream",
     "text": [
      "Epoch 1/100 - Training: 100%|██████████| 704/704 [03:54<00:00,  3.00it/s]\n"
     ]
    },
    {
     "name": "stdout",
     "output_type": "stream",
     "text": [
      "Epoch 1/100 - Training Loss: 0.1762, Accuracy: 0.9766\n"
     ]
    },
    {
     "name": "stderr",
     "output_type": "stream",
     "text": [
      "Epoch 1/100 - Validation: 100%|██████████| 79/79 [00:31<00:00,  2.48it/s]\n"
     ]
    },
    {
     "name": "stdout",
     "output_type": "stream",
     "text": [
      "Epoch 1/100 - Validation Loss: 0.1386, Accuracy: 0.9920\n",
      "Model for epoch 1 saved to Fine_Tuned_Swin_Models\\model_epoch_1.pth\n",
      "Epoch 1/100, Param Group 0 Learning Rate: 0.000100\n"
     ]
    },
    {
     "name": "stderr",
     "output_type": "stream",
     "text": [
      "Epoch 2/100 - Training: 100%|██████████| 704/704 [03:55<00:00,  2.99it/s]\n"
     ]
    },
    {
     "name": "stdout",
     "output_type": "stream",
     "text": [
      "Epoch 2/100 - Training Loss: 0.1453, Accuracy: 0.9886\n"
     ]
    },
    {
     "name": "stderr",
     "output_type": "stream",
     "text": [
      "Epoch 2/100 - Validation: 100%|██████████| 79/79 [00:31<00:00,  2.48it/s]\n"
     ]
    },
    {
     "name": "stdout",
     "output_type": "stream",
     "text": [
      "Epoch 2/100 - Validation Loss: 0.1378, Accuracy: 0.9904\n",
      "Model for epoch 2 saved to Fine_Tuned_Swin_Models\\model_epoch_2.pth\n",
      "Epoch 2/100, Param Group 0 Learning Rate: 0.000075\n"
     ]
    },
    {
     "name": "stderr",
     "output_type": "stream",
     "text": [
      "Epoch 3/100 - Training: 100%|██████████| 704/704 [03:58<00:00,  2.95it/s]\n"
     ]
    },
    {
     "name": "stdout",
     "output_type": "stream",
     "text": [
      "Epoch 3/100 - Training Loss: 0.1331, Accuracy: 0.9936\n"
     ]
    },
    {
     "name": "stderr",
     "output_type": "stream",
     "text": [
      "Epoch 3/100 - Validation: 100%|██████████| 79/79 [00:32<00:00,  2.47it/s]\n"
     ]
    },
    {
     "name": "stdout",
     "output_type": "stream",
     "text": [
      "Epoch 3/100 - Validation Loss: 0.1313, Accuracy: 0.9942\n",
      "Model for epoch 3 saved to Fine_Tuned_Swin_Models\\model_epoch_3.pth\n",
      "Epoch 3/100, Param Group 0 Learning Rate: 0.000100\n"
     ]
    },
    {
     "name": "stderr",
     "output_type": "stream",
     "text": [
      "Epoch 4/100 - Training: 100%|██████████| 704/704 [04:00<00:00,  2.93it/s]\n"
     ]
    },
    {
     "name": "stdout",
     "output_type": "stream",
     "text": [
      "Epoch 4/100 - Training Loss: 0.1342, Accuracy: 0.9927\n"
     ]
    },
    {
     "name": "stderr",
     "output_type": "stream",
     "text": [
      "Epoch 4/100 - Validation: 100%|██████████| 79/79 [00:31<00:00,  2.47it/s]\n"
     ]
    },
    {
     "name": "stdout",
     "output_type": "stream",
     "text": [
      "Epoch 4/100 - Validation Loss: 0.1313, Accuracy: 0.9936\n",
      "Model for epoch 4 saved to Fine_Tuned_Swin_Models\\model_epoch_4.pth\n",
      "Epoch 4/100, Param Group 0 Learning Rate: 0.000093\n"
     ]
    },
    {
     "name": "stderr",
     "output_type": "stream",
     "text": [
      "Epoch 5/100 - Training: 100%|██████████| 704/704 [04:03<00:00,  2.89it/s]\n"
     ]
    },
    {
     "name": "stdout",
     "output_type": "stream",
     "text": [
      "Epoch 5/100 - Training Loss: 0.1281, Accuracy: 0.9957\n"
     ]
    },
    {
     "name": "stderr",
     "output_type": "stream",
     "text": [
      "Epoch 5/100 - Validation: 100%|██████████| 79/79 [00:31<00:00,  2.47it/s]\n"
     ]
    },
    {
     "name": "stdout",
     "output_type": "stream",
     "text": [
      "Epoch 5/100 - Validation Loss: 0.1321, Accuracy: 0.9936\n",
      "Model for epoch 5 saved to Fine_Tuned_Swin_Models\\model_epoch_5.pth\n",
      "Epoch 5/100, Param Group 0 Learning Rate: 0.000075\n"
     ]
    },
    {
     "name": "stderr",
     "output_type": "stream",
     "text": [
      "Epoch 6/100 - Training: 100%|██████████| 704/704 [04:03<00:00,  2.89it/s]\n"
     ]
    },
    {
     "name": "stdout",
     "output_type": "stream",
     "text": [
      "Epoch 6/100 - Training Loss: 0.1260, Accuracy: 0.9964\n"
     ]
    },
    {
     "name": "stderr",
     "output_type": "stream",
     "text": [
      "Epoch 6/100 - Validation: 100%|██████████| 79/79 [00:32<00:00,  2.45it/s]\n"
     ]
    },
    {
     "name": "stdout",
     "output_type": "stream",
     "text": [
      "Epoch 6/100 - Validation Loss: 0.1314, Accuracy: 0.9938\n",
      "Model for epoch 6 saved to Fine_Tuned_Swin_Models\\model_epoch_6.pth\n",
      "Epoch 6/100, Param Group 0 Learning Rate: 0.000057\n"
     ]
    },
    {
     "name": "stderr",
     "output_type": "stream",
     "text": [
      "Epoch 7/100 - Training: 100%|██████████| 704/704 [04:02<00:00,  2.91it/s]\n"
     ]
    },
    {
     "name": "stdout",
     "output_type": "stream",
     "text": [
      "Epoch 7/100 - Training Loss: 0.1229, Accuracy: 0.9979\n"
     ]
    },
    {
     "name": "stderr",
     "output_type": "stream",
     "text": [
      "Epoch 7/100 - Validation: 100%|██████████| 79/79 [00:31<00:00,  2.49it/s]\n"
     ]
    },
    {
     "name": "stdout",
     "output_type": "stream",
     "text": [
      "Epoch 7/100 - Validation Loss: 0.1308, Accuracy: 0.9944\n",
      "Model for epoch 7 saved to Fine_Tuned_Swin_Models\\model_epoch_7.pth\n",
      "Epoch 7/100, Param Group 0 Learning Rate: 0.000100\n"
     ]
    },
    {
     "name": "stderr",
     "output_type": "stream",
     "text": [
      "Epoch 8/100 - Training: 100%|██████████| 704/704 [04:01<00:00,  2.91it/s]\n"
     ]
    },
    {
     "name": "stdout",
     "output_type": "stream",
     "text": [
      "Epoch 8/100 - Training Loss: 0.1261, Accuracy: 0.9965\n"
     ]
    },
    {
     "name": "stderr",
     "output_type": "stream",
     "text": [
      "Epoch 8/100 - Validation: 100%|██████████| 79/79 [00:31<00:00,  2.48it/s]\n"
     ]
    },
    {
     "name": "stdout",
     "output_type": "stream",
     "text": [
      "Epoch 8/100 - Validation Loss: 0.1320, Accuracy: 0.9940\n",
      "Model for epoch 8 saved to Fine_Tuned_Swin_Models\\model_epoch_8.pth\n",
      "Epoch 8/100, Param Group 0 Learning Rate: 0.000098\n"
     ]
    },
    {
     "name": "stderr",
     "output_type": "stream",
     "text": [
      "Epoch 9/100 - Training: 100%|██████████| 704/704 [04:03<00:00,  2.89it/s]\n"
     ]
    },
    {
     "name": "stdout",
     "output_type": "stream",
     "text": [
      "Epoch 9/100 - Training Loss: 0.1237, Accuracy: 0.9972\n"
     ]
    },
    {
     "name": "stderr",
     "output_type": "stream",
     "text": [
      "Epoch 9/100 - Validation: 100%|██████████| 79/79 [00:31<00:00,  2.49it/s]\n"
     ]
    },
    {
     "name": "stdout",
     "output_type": "stream",
     "text": [
      "Epoch 9/100 - Validation Loss: 0.1316, Accuracy: 0.9938\n",
      "Model for epoch 9 saved to Fine_Tuned_Swin_Models\\model_epoch_9.pth\n",
      "Epoch 9/100, Param Group 0 Learning Rate: 0.000093\n"
     ]
    },
    {
     "name": "stderr",
     "output_type": "stream",
     "text": [
      "Epoch 10/100 - Training: 100%|██████████| 704/704 [04:03<00:00,  2.90it/s]\n"
     ]
    },
    {
     "name": "stdout",
     "output_type": "stream",
     "text": [
      "Epoch 10/100 - Training Loss: 0.1227, Accuracy: 0.9978\n"
     ]
    },
    {
     "name": "stderr",
     "output_type": "stream",
     "text": [
      "Epoch 10/100 - Validation: 100%|██████████| 79/79 [00:32<00:00,  2.47it/s]\n"
     ]
    },
    {
     "name": "stdout",
     "output_type": "stream",
     "text": [
      "Epoch 10/100 - Validation Loss: 0.1368, Accuracy: 0.9920\n",
      "Model for epoch 10 saved to Fine_Tuned_Swin_Models\\model_epoch_10.pth\n",
      "Epoch 10/100, Param Group 0 Learning Rate: 0.000085\n"
     ]
    },
    {
     "name": "stderr",
     "output_type": "stream",
     "text": [
      "Epoch 11/100 - Training: 100%|██████████| 704/704 [04:03<00:00,  2.90it/s]\n"
     ]
    },
    {
     "name": "stdout",
     "output_type": "stream",
     "text": [
      "Epoch 11/100 - Training Loss: 0.1223, Accuracy: 0.9979\n"
     ]
    },
    {
     "name": "stderr",
     "output_type": "stream",
     "text": [
      "Epoch 11/100 - Validation: 100%|██████████| 79/79 [00:32<00:00,  2.44it/s]\n"
     ]
    },
    {
     "name": "stdout",
     "output_type": "stream",
     "text": [
      "Epoch 11/100 - Validation Loss: 0.1301, Accuracy: 0.9944\n",
      "Model for epoch 11 saved to Fine_Tuned_Swin_Models\\model_epoch_11.pth\n",
      "Epoch 11/100, Param Group 0 Learning Rate: 0.000075\n"
     ]
    },
    {
     "name": "stderr",
     "output_type": "stream",
     "text": [
      "Epoch 12/100 - Training: 100%|██████████| 704/704 [04:01<00:00,  2.91it/s]\n"
     ]
    },
    {
     "name": "stdout",
     "output_type": "stream",
     "text": [
      "Epoch 12/100 - Training Loss: 0.1213, Accuracy: 0.9983\n"
     ]
    },
    {
     "name": "stderr",
     "output_type": "stream",
     "text": [
      "Epoch 12/100 - Validation: 100%|██████████| 79/79 [00:32<00:00,  2.46it/s]\n"
     ]
    },
    {
     "name": "stdout",
     "output_type": "stream",
     "text": [
      "Epoch 12/100 - Validation Loss: 0.1330, Accuracy: 0.9940\n",
      "Model for epoch 12 saved to Fine_Tuned_Swin_Models\\model_epoch_12.pth\n",
      "Epoch 12/100, Param Group 0 Learning Rate: 0.000065\n"
     ]
    },
    {
     "name": "stderr",
     "output_type": "stream",
     "text": [
      "Epoch 13/100 - Training: 100%|██████████| 704/704 [04:05<00:00,  2.87it/s]\n"
     ]
    },
    {
     "name": "stdout",
     "output_type": "stream",
     "text": [
      "Epoch 13/100 - Training Loss: 0.1198, Accuracy: 0.9991\n"
     ]
    },
    {
     "name": "stderr",
     "output_type": "stream",
     "text": [
      "Epoch 13/100 - Validation: 100%|██████████| 79/79 [00:32<00:00,  2.43it/s]\n"
     ]
    },
    {
     "name": "stdout",
     "output_type": "stream",
     "text": [
      "Epoch 13/100 - Validation Loss: 0.1311, Accuracy: 0.9940\n",
      "Model for epoch 13 saved to Fine_Tuned_Swin_Models\\model_epoch_13.pth\n",
      "Epoch 13/100, Param Group 0 Learning Rate: 0.000057\n"
     ]
    },
    {
     "name": "stderr",
     "output_type": "stream",
     "text": [
      "Epoch 14/100 - Training: 100%|██████████| 704/704 [04:05<00:00,  2.87it/s]\n"
     ]
    },
    {
     "name": "stdout",
     "output_type": "stream",
     "text": [
      "Epoch 14/100 - Training Loss: 0.1195, Accuracy: 0.9990\n"
     ]
    },
    {
     "name": "stderr",
     "output_type": "stream",
     "text": [
      "Epoch 14/100 - Validation: 100%|██████████| 79/79 [00:32<00:00,  2.46it/s]\n"
     ]
    },
    {
     "name": "stdout",
     "output_type": "stream",
     "text": [
      "Epoch 14/100 - Validation Loss: 0.1304, Accuracy: 0.9944\n",
      "Model for epoch 14 saved to Fine_Tuned_Swin_Models\\model_epoch_14.pth\n",
      "Epoch 14/100, Param Group 0 Learning Rate: 0.000052\n"
     ]
    },
    {
     "name": "stderr",
     "output_type": "stream",
     "text": [
      "Epoch 15/100 - Training: 100%|██████████| 704/704 [04:03<00:00,  2.89it/s]\n"
     ]
    },
    {
     "name": "stdout",
     "output_type": "stream",
     "text": [
      "Epoch 15/100 - Training Loss: 0.1191, Accuracy: 0.9993\n"
     ]
    },
    {
     "name": "stderr",
     "output_type": "stream",
     "text": [
      "Epoch 15/100 - Validation: 100%|██████████| 79/79 [00:32<00:00,  2.44it/s]\n"
     ]
    },
    {
     "name": "stdout",
     "output_type": "stream",
     "text": [
      "Epoch 15/100 - Validation Loss: 0.1399, Accuracy: 0.9908\n",
      "Model for epoch 15 saved to Fine_Tuned_Swin_Models\\model_epoch_15.pth\n",
      "Epoch 15/100, Param Group 0 Learning Rate: 0.000100\n"
     ]
    },
    {
     "name": "stderr",
     "output_type": "stream",
     "text": [
      "Epoch 16/100 - Training: 100%|██████████| 704/704 [04:07<00:00,  2.85it/s]\n"
     ]
    },
    {
     "name": "stdout",
     "output_type": "stream",
     "text": [
      "Epoch 16/100 - Training Loss: 0.1224, Accuracy: 0.9981\n"
     ]
    },
    {
     "name": "stderr",
     "output_type": "stream",
     "text": [
      "Epoch 16/100 - Validation: 100%|██████████| 79/79 [00:32<00:00,  2.41it/s]\n"
     ]
    },
    {
     "name": "stdout",
     "output_type": "stream",
     "text": [
      "Epoch 16/100 - Validation Loss: 0.1270, Accuracy: 0.9966\n",
      "Model for epoch 16 saved to Fine_Tuned_Swin_Models\\model_epoch_16.pth\n",
      "Epoch 16/100, Param Group 0 Learning Rate: 0.000100\n"
     ]
    },
    {
     "name": "stderr",
     "output_type": "stream",
     "text": [
      "Epoch 17/100 - Training: 100%|██████████| 704/704 [04:07<00:00,  2.84it/s]\n"
     ]
    },
    {
     "name": "stdout",
     "output_type": "stream",
     "text": [
      "Epoch 17/100 - Training Loss: 0.1219, Accuracy: 0.9980\n"
     ]
    },
    {
     "name": "stderr",
     "output_type": "stream",
     "text": [
      "Epoch 17/100 - Validation: 100%|██████████| 79/79 [00:32<00:00,  2.46it/s]\n"
     ]
    },
    {
     "name": "stdout",
     "output_type": "stream",
     "text": [
      "Epoch 17/100 - Validation Loss: 0.1255, Accuracy: 0.9962\n",
      "Model for epoch 17 saved to Fine_Tuned_Swin_Models\\model_epoch_17.pth\n",
      "Epoch 17/100, Param Group 0 Learning Rate: 0.000098\n"
     ]
    },
    {
     "name": "stderr",
     "output_type": "stream",
     "text": [
      "Epoch 18/100 - Training: 100%|██████████| 704/704 [04:07<00:00,  2.84it/s]\n"
     ]
    },
    {
     "name": "stdout",
     "output_type": "stream",
     "text": [
      "Epoch 18/100 - Training Loss: 0.1216, Accuracy: 0.9981\n"
     ]
    },
    {
     "name": "stderr",
     "output_type": "stream",
     "text": [
      "Epoch 18/100 - Validation: 100%|██████████| 79/79 [00:32<00:00,  2.46it/s]\n"
     ]
    },
    {
     "name": "stdout",
     "output_type": "stream",
     "text": [
      "Epoch 18/100 - Validation Loss: 0.1319, Accuracy: 0.9936\n",
      "Model for epoch 18 saved to Fine_Tuned_Swin_Models\\model_epoch_18.pth\n",
      "Epoch 18/100, Param Group 0 Learning Rate: 0.000096\n"
     ]
    },
    {
     "name": "stderr",
     "output_type": "stream",
     "text": [
      "Epoch 19/100 - Training: 100%|██████████| 704/704 [04:06<00:00,  2.85it/s]\n"
     ]
    },
    {
     "name": "stdout",
     "output_type": "stream",
     "text": [
      "Epoch 19/100 - Training Loss: 0.1204, Accuracy: 0.9988\n"
     ]
    },
    {
     "name": "stderr",
     "output_type": "stream",
     "text": [
      "Epoch 19/100 - Validation: 100%|██████████| 79/79 [00:31<00:00,  2.49it/s]\n"
     ]
    },
    {
     "name": "stdout",
     "output_type": "stream",
     "text": [
      "Epoch 19/100 - Validation Loss: 0.1311, Accuracy: 0.9950\n",
      "Model for epoch 19 saved to Fine_Tuned_Swin_Models\\model_epoch_19.pth\n",
      "Epoch 19/100, Param Group 0 Learning Rate: 0.000093\n"
     ]
    },
    {
     "name": "stderr",
     "output_type": "stream",
     "text": [
      "Epoch 20/100 - Training: 100%|██████████| 704/704 [04:07<00:00,  2.85it/s]\n"
     ]
    },
    {
     "name": "stdout",
     "output_type": "stream",
     "text": [
      "Epoch 20/100 - Training Loss: 0.1206, Accuracy: 0.9986\n"
     ]
    },
    {
     "name": "stderr",
     "output_type": "stream",
     "text": [
      "Epoch 20/100 - Validation: 100%|██████████| 79/79 [00:32<00:00,  2.46it/s]\n"
     ]
    },
    {
     "name": "stdout",
     "output_type": "stream",
     "text": [
      "Epoch 20/100 - Validation Loss: 0.1288, Accuracy: 0.9958\n",
      "Model for epoch 20 saved to Fine_Tuned_Swin_Models\\model_epoch_20.pth\n",
      "Epoch 20/100, Param Group 0 Learning Rate: 0.000089\n"
     ]
    },
    {
     "name": "stderr",
     "output_type": "stream",
     "text": [
      "Epoch 21/100 - Training: 100%|██████████| 704/704 [04:03<00:00,  2.89it/s]\n"
     ]
    },
    {
     "name": "stdout",
     "output_type": "stream",
     "text": [
      "Epoch 21/100 - Training Loss: 0.1204, Accuracy: 0.9986\n"
     ]
    },
    {
     "name": "stderr",
     "output_type": "stream",
     "text": [
      "Epoch 21/100 - Validation: 100%|██████████| 79/79 [00:32<00:00,  2.47it/s]\n"
     ]
    },
    {
     "name": "stdout",
     "output_type": "stream",
     "text": [
      "Epoch 21/100 - Validation Loss: 0.1293, Accuracy: 0.9944\n",
      "Model for epoch 21 saved to Fine_Tuned_Swin_Models\\model_epoch_21.pth\n",
      "Epoch 21/100, Param Group 0 Learning Rate: 0.000085\n"
     ]
    },
    {
     "name": "stderr",
     "output_type": "stream",
     "text": [
      "Epoch 22/100 - Training: 100%|██████████| 704/704 [04:07<00:00,  2.84it/s]\n"
     ]
    },
    {
     "name": "stdout",
     "output_type": "stream",
     "text": [
      "Epoch 22/100 - Training Loss: 0.1188, Accuracy: 0.9994\n"
     ]
    },
    {
     "name": "stderr",
     "output_type": "stream",
     "text": [
      "Epoch 22/100 - Validation: 100%|██████████| 79/79 [00:33<00:00,  2.39it/s]\n"
     ]
    },
    {
     "name": "stdout",
     "output_type": "stream",
     "text": [
      "Epoch 22/100 - Validation Loss: 0.1275, Accuracy: 0.9954\n",
      "Model for epoch 22 saved to Fine_Tuned_Swin_Models\\model_epoch_22.pth\n",
      "Epoch 22/100, Param Group 0 Learning Rate: 0.000080\n"
     ]
    },
    {
     "name": "stderr",
     "output_type": "stream",
     "text": [
      "Epoch 23/100 - Training: 100%|██████████| 704/704 [04:05<00:00,  2.87it/s]\n"
     ]
    },
    {
     "name": "stdout",
     "output_type": "stream",
     "text": [
      "Epoch 23/100 - Training Loss: 0.1192, Accuracy: 0.9991\n"
     ]
    },
    {
     "name": "stderr",
     "output_type": "stream",
     "text": [
      "Epoch 23/100 - Validation: 100%|██████████| 79/79 [00:32<00:00,  2.46it/s]\n"
     ]
    },
    {
     "name": "stdout",
     "output_type": "stream",
     "text": [
      "Epoch 23/100 - Validation Loss: 0.1317, Accuracy: 0.9948\n",
      "Model for epoch 23 saved to Fine_Tuned_Swin_Models\\model_epoch_23.pth\n",
      "Epoch 23/100, Param Group 0 Learning Rate: 0.000075\n"
     ]
    },
    {
     "name": "stderr",
     "output_type": "stream",
     "text": [
      "Epoch 24/100 - Training: 100%|██████████| 704/704 [04:06<00:00,  2.85it/s]\n"
     ]
    },
    {
     "name": "stdout",
     "output_type": "stream",
     "text": [
      "Epoch 24/100 - Training Loss: 0.1195, Accuracy: 0.9989\n"
     ]
    },
    {
     "name": "stderr",
     "output_type": "stream",
     "text": [
      "Epoch 24/100 - Validation: 100%|██████████| 79/79 [00:32<00:00,  2.45it/s]\n"
     ]
    },
    {
     "name": "stdout",
     "output_type": "stream",
     "text": [
      "Epoch 24/100 - Validation Loss: 0.1326, Accuracy: 0.9938\n",
      "Model for epoch 24 saved to Fine_Tuned_Swin_Models\\model_epoch_24.pth\n",
      "Epoch 24/100, Param Group 0 Learning Rate: 0.000070\n"
     ]
    },
    {
     "name": "stderr",
     "output_type": "stream",
     "text": [
      "Epoch 25/100 - Training: 100%|██████████| 704/704 [04:04<00:00,  2.88it/s]\n"
     ]
    },
    {
     "name": "stdout",
     "output_type": "stream",
     "text": [
      "Epoch 25/100 - Training Loss: 0.1187, Accuracy: 0.9993\n"
     ]
    },
    {
     "name": "stderr",
     "output_type": "stream",
     "text": [
      "Epoch 25/100 - Validation: 100%|██████████| 79/79 [00:32<00:00,  2.39it/s]\n"
     ]
    },
    {
     "name": "stdout",
     "output_type": "stream",
     "text": [
      "Epoch 25/100 - Validation Loss: 0.1361, Accuracy: 0.9924\n",
      "Model for epoch 25 saved to Fine_Tuned_Swin_Models\\model_epoch_25.pth\n",
      "Epoch 25/100, Param Group 0 Learning Rate: 0.000065\n"
     ]
    },
    {
     "name": "stderr",
     "output_type": "stream",
     "text": [
      "Epoch 26/100 - Training: 100%|██████████| 704/704 [04:02<00:00,  2.90it/s]\n"
     ]
    },
    {
     "name": "stdout",
     "output_type": "stream",
     "text": [
      "Epoch 26/100 - Training Loss: 0.1186, Accuracy: 0.9994\n"
     ]
    },
    {
     "name": "stderr",
     "output_type": "stream",
     "text": [
      "Epoch 26/100 - Validation: 100%|██████████| 79/79 [00:32<00:00,  2.44it/s]\n"
     ]
    },
    {
     "name": "stdout",
     "output_type": "stream",
     "text": [
      "Epoch 26/100 - Validation Loss: 0.1295, Accuracy: 0.9950\n",
      "Model for epoch 26 saved to Fine_Tuned_Swin_Models\\model_epoch_26.pth\n",
      "Epoch 26/100, Param Group 0 Learning Rate: 0.000061\n"
     ]
    },
    {
     "name": "stderr",
     "output_type": "stream",
     "text": [
      "Epoch 27/100 - Training: 100%|██████████| 704/704 [04:03<00:00,  2.89it/s]\n"
     ]
    },
    {
     "name": "stdout",
     "output_type": "stream",
     "text": [
      "Epoch 27/100 - Training Loss: 0.1186, Accuracy: 0.9994\n"
     ]
    },
    {
     "name": "stderr",
     "output_type": "stream",
     "text": [
      "Epoch 27/100 - Validation: 100%|██████████| 79/79 [00:32<00:00,  2.46it/s]\n"
     ]
    },
    {
     "name": "stdout",
     "output_type": "stream",
     "text": [
      "Epoch 27/100 - Validation Loss: 0.1274, Accuracy: 0.9960\n",
      "Model for epoch 27 saved to Fine_Tuned_Swin_Models\\model_epoch_27.pth\n",
      "Epoch 27/100, Param Group 0 Learning Rate: 0.000057\n"
     ]
    },
    {
     "name": "stderr",
     "output_type": "stream",
     "text": [
      "Epoch 28/100 - Training: 100%|██████████| 704/704 [04:02<00:00,  2.90it/s]\n"
     ]
    },
    {
     "name": "stdout",
     "output_type": "stream",
     "text": [
      "Epoch 28/100 - Training Loss: 0.1181, Accuracy: 0.9996\n"
     ]
    },
    {
     "name": "stderr",
     "output_type": "stream",
     "text": [
      "Epoch 28/100 - Validation: 100%|██████████| 79/79 [00:32<00:00,  2.45it/s]\n"
     ]
    },
    {
     "name": "stdout",
     "output_type": "stream",
     "text": [
      "Epoch 28/100 - Validation Loss: 0.1337, Accuracy: 0.9932\n",
      "Model for epoch 28 saved to Fine_Tuned_Swin_Models\\model_epoch_28.pth\n",
      "Epoch 28/100, Param Group 0 Learning Rate: 0.000054\n"
     ]
    },
    {
     "name": "stderr",
     "output_type": "stream",
     "text": [
      "Epoch 29/100 - Training: 100%|██████████| 704/704 [04:02<00:00,  2.91it/s]\n"
     ]
    },
    {
     "name": "stdout",
     "output_type": "stream",
     "text": [
      "Epoch 29/100 - Training Loss: 0.1180, Accuracy: 0.9996\n"
     ]
    },
    {
     "name": "stderr",
     "output_type": "stream",
     "text": [
      "Epoch 29/100 - Validation: 100%|██████████| 79/79 [00:32<00:00,  2.43it/s]\n"
     ]
    },
    {
     "name": "stdout",
     "output_type": "stream",
     "text": [
      "Epoch 29/100 - Validation Loss: 0.1344, Accuracy: 0.9932\n",
      "Model for epoch 29 saved to Fine_Tuned_Swin_Models\\model_epoch_29.pth\n",
      "Epoch 29/100, Param Group 0 Learning Rate: 0.000052\n"
     ]
    },
    {
     "name": "stderr",
     "output_type": "stream",
     "text": [
      "Epoch 30/100 - Training: 100%|██████████| 704/704 [04:01<00:00,  2.92it/s]\n"
     ]
    },
    {
     "name": "stdout",
     "output_type": "stream",
     "text": [
      "Epoch 30/100 - Training Loss: 0.1182, Accuracy: 0.9995\n"
     ]
    },
    {
     "name": "stderr",
     "output_type": "stream",
     "text": [
      "Epoch 30/100 - Validation: 100%|██████████| 79/79 [00:32<00:00,  2.47it/s]\n"
     ]
    },
    {
     "name": "stdout",
     "output_type": "stream",
     "text": [
      "Epoch 30/100 - Validation Loss: 0.1302, Accuracy: 0.9954\n",
      "Model for epoch 30 saved to Fine_Tuned_Swin_Models\\model_epoch_30.pth\n",
      "Epoch 30/100, Param Group 0 Learning Rate: 0.000050\n"
     ]
    },
    {
     "name": "stderr",
     "output_type": "stream",
     "text": [
      "Epoch 31/100 - Training: 100%|██████████| 704/704 [04:01<00:00,  2.91it/s]\n"
     ]
    },
    {
     "name": "stdout",
     "output_type": "stream",
     "text": [
      "Epoch 31/100 - Training Loss: 0.1182, Accuracy: 0.9995\n"
     ]
    },
    {
     "name": "stderr",
     "output_type": "stream",
     "text": [
      "Epoch 31/100 - Validation: 100%|██████████| 79/79 [00:31<00:00,  2.48it/s]\n"
     ]
    },
    {
     "name": "stdout",
     "output_type": "stream",
     "text": [
      "Epoch 31/100 - Validation Loss: 0.1315, Accuracy: 0.9944\n",
      "Model for epoch 31 saved to Fine_Tuned_Swin_Models\\model_epoch_31.pth\n",
      "Epoch 31/100, Param Group 0 Learning Rate: 0.000100\n"
     ]
    },
    {
     "name": "stderr",
     "output_type": "stream",
     "text": [
      "Epoch 32/100 - Training: 100%|██████████| 704/704 [04:00<00:00,  2.93it/s]\n"
     ]
    },
    {
     "name": "stdout",
     "output_type": "stream",
     "text": [
      "Epoch 32/100 - Training Loss: 0.1193, Accuracy: 0.9992\n"
     ]
    },
    {
     "name": "stderr",
     "output_type": "stream",
     "text": [
      "Epoch 32/100 - Validation: 100%|██████████| 79/79 [00:31<00:00,  2.50it/s]\n"
     ]
    },
    {
     "name": "stdout",
     "output_type": "stream",
     "text": [
      "Epoch 32/100 - Validation Loss: 0.1404, Accuracy: 0.9918\n",
      "Model for epoch 32 saved to Fine_Tuned_Swin_Models\\model_epoch_32.pth\n",
      "Epoch 32/100, Param Group 0 Learning Rate: 0.000100\n"
     ]
    },
    {
     "name": "stderr",
     "output_type": "stream",
     "text": [
      "Epoch 33/100 - Training: 100%|██████████| 704/704 [04:03<00:00,  2.90it/s]\n"
     ]
    },
    {
     "name": "stdout",
     "output_type": "stream",
     "text": [
      "Epoch 33/100 - Training Loss: 0.1197, Accuracy: 0.9989\n"
     ]
    },
    {
     "name": "stderr",
     "output_type": "stream",
     "text": [
      "Epoch 33/100 - Validation: 100%|██████████| 79/79 [00:31<00:00,  2.50it/s]\n"
     ]
    },
    {
     "name": "stdout",
     "output_type": "stream",
     "text": [
      "Epoch 33/100 - Validation Loss: 0.1258, Accuracy: 0.9972\n",
      "Model for epoch 33 saved to Fine_Tuned_Swin_Models\\model_epoch_33.pth\n",
      "Epoch 33/100, Param Group 0 Learning Rate: 0.000100\n"
     ]
    },
    {
     "name": "stderr",
     "output_type": "stream",
     "text": [
      "Epoch 34/100 - Training: 100%|██████████| 704/704 [03:57<00:00,  2.97it/s]\n"
     ]
    },
    {
     "name": "stdout",
     "output_type": "stream",
     "text": [
      "Epoch 34/100 - Training Loss: 0.1196, Accuracy: 0.9990\n"
     ]
    },
    {
     "name": "stderr",
     "output_type": "stream",
     "text": [
      "Epoch 34/100 - Validation: 100%|██████████| 79/79 [00:34<00:00,  2.30it/s]\n"
     ]
    },
    {
     "name": "stdout",
     "output_type": "stream",
     "text": [
      "Epoch 34/100 - Validation Loss: 0.1289, Accuracy: 0.9952\n",
      "Model for epoch 34 saved to Fine_Tuned_Swin_Models\\model_epoch_34.pth\n",
      "Epoch 34/100, Param Group 0 Learning Rate: 0.000099\n"
     ]
    },
    {
     "name": "stderr",
     "output_type": "stream",
     "text": [
      "Epoch 35/100 - Training: 100%|██████████| 704/704 [03:58<00:00,  2.95it/s]\n"
     ]
    },
    {
     "name": "stdout",
     "output_type": "stream",
     "text": [
      "Epoch 35/100 - Training Loss: 0.1192, Accuracy: 0.9990\n"
     ]
    },
    {
     "name": "stderr",
     "output_type": "stream",
     "text": [
      "Epoch 35/100 - Validation: 100%|██████████| 79/79 [00:31<00:00,  2.52it/s]\n"
     ]
    },
    {
     "name": "stdout",
     "output_type": "stream",
     "text": [
      "Epoch 35/100 - Validation Loss: 0.1327, Accuracy: 0.9940\n",
      "Model for epoch 35 saved to Fine_Tuned_Swin_Models\\model_epoch_35.pth\n",
      "Epoch 35/100, Param Group 0 Learning Rate: 0.000098\n"
     ]
    },
    {
     "name": "stderr",
     "output_type": "stream",
     "text": [
      "Epoch 36/100 - Training: 100%|██████████| 704/704 [03:55<00:00,  2.98it/s]\n"
     ]
    },
    {
     "name": "stdout",
     "output_type": "stream",
     "text": [
      "Epoch 36/100 - Training Loss: 0.1191, Accuracy: 0.9992\n"
     ]
    },
    {
     "name": "stderr",
     "output_type": "stream",
     "text": [
      "Epoch 36/100 - Validation: 100%|██████████| 79/79 [00:32<00:00,  2.41it/s]\n"
     ]
    },
    {
     "name": "stdout",
     "output_type": "stream",
     "text": [
      "Epoch 36/100 - Validation Loss: 0.1381, Accuracy: 0.9924\n",
      "Model for epoch 36 saved to Fine_Tuned_Swin_Models\\model_epoch_36.pth\n",
      "Epoch 36/100, Param Group 0 Learning Rate: 0.000097\n"
     ]
    },
    {
     "name": "stderr",
     "output_type": "stream",
     "text": [
      "Epoch 37/100 - Training: 100%|██████████| 704/704 [03:53<00:00,  3.01it/s]\n"
     ]
    },
    {
     "name": "stdout",
     "output_type": "stream",
     "text": [
      "Epoch 37/100 - Training Loss: 0.1187, Accuracy: 0.9994\n"
     ]
    },
    {
     "name": "stderr",
     "output_type": "stream",
     "text": [
      "Epoch 37/100 - Validation: 100%|██████████| 79/79 [00:31<00:00,  2.52it/s]\n"
     ]
    },
    {
     "name": "stdout",
     "output_type": "stream",
     "text": [
      "Epoch 37/100 - Validation Loss: 0.1329, Accuracy: 0.9936\n",
      "Model for epoch 37 saved to Fine_Tuned_Swin_Models\\model_epoch_37.pth\n",
      "Epoch 37/100, Param Group 0 Learning Rate: 0.000096\n"
     ]
    },
    {
     "name": "stderr",
     "output_type": "stream",
     "text": [
      "Epoch 38/100 - Training: 100%|██████████| 704/704 [03:58<00:00,  2.96it/s]\n"
     ]
    },
    {
     "name": "stdout",
     "output_type": "stream",
     "text": [
      "Epoch 38/100 - Training Loss: 0.1190, Accuracy: 0.9992\n"
     ]
    },
    {
     "name": "stderr",
     "output_type": "stream",
     "text": [
      "Epoch 38/100 - Validation: 100%|██████████| 79/79 [00:31<00:00,  2.53it/s]\n"
     ]
    },
    {
     "name": "stdout",
     "output_type": "stream",
     "text": [
      "Epoch 38/100 - Validation Loss: 0.1324, Accuracy: 0.9936\n",
      "Model for epoch 38 saved to Fine_Tuned_Swin_Models\\model_epoch_38.pth\n",
      "Epoch 38/100, Param Group 0 Learning Rate: 0.000094\n"
     ]
    },
    {
     "name": "stderr",
     "output_type": "stream",
     "text": [
      "Epoch 39/100 - Training: 100%|██████████| 704/704 [03:59<00:00,  2.94it/s]\n"
     ]
    },
    {
     "name": "stdout",
     "output_type": "stream",
     "text": [
      "Epoch 39/100 - Training Loss: 0.1193, Accuracy: 0.9990\n"
     ]
    },
    {
     "name": "stderr",
     "output_type": "stream",
     "text": [
      "Epoch 39/100 - Validation: 100%|██████████| 79/79 [00:31<00:00,  2.52it/s]\n"
     ]
    },
    {
     "name": "stdout",
     "output_type": "stream",
     "text": [
      "Epoch 39/100 - Validation Loss: 0.1299, Accuracy: 0.9944\n",
      "Model for epoch 39 saved to Fine_Tuned_Swin_Models\\model_epoch_39.pth\n",
      "Epoch 39/100, Param Group 0 Learning Rate: 0.000093\n"
     ]
    },
    {
     "name": "stderr",
     "output_type": "stream",
     "text": [
      "Epoch 40/100 - Training: 100%|██████████| 704/704 [03:58<00:00,  2.95it/s]\n"
     ]
    },
    {
     "name": "stdout",
     "output_type": "stream",
     "text": [
      "Epoch 40/100 - Training Loss: 0.1187, Accuracy: 0.9995\n"
     ]
    },
    {
     "name": "stderr",
     "output_type": "stream",
     "text": [
      "Epoch 40/100 - Validation: 100%|██████████| 79/79 [00:31<00:00,  2.51it/s]\n"
     ]
    },
    {
     "name": "stdout",
     "output_type": "stream",
     "text": [
      "Epoch 40/100 - Validation Loss: 0.1311, Accuracy: 0.9944\n",
      "Model for epoch 40 saved to Fine_Tuned_Swin_Models\\model_epoch_40.pth\n",
      "Epoch 40/100, Param Group 0 Learning Rate: 0.000091\n"
     ]
    },
    {
     "name": "stderr",
     "output_type": "stream",
     "text": [
      "Epoch 41/100 - Training: 100%|██████████| 704/704 [03:58<00:00,  2.95it/s]\n"
     ]
    },
    {
     "name": "stdout",
     "output_type": "stream",
     "text": [
      "Epoch 41/100 - Training Loss: 0.1181, Accuracy: 0.9996\n"
     ]
    },
    {
     "name": "stderr",
     "output_type": "stream",
     "text": [
      "Epoch 41/100 - Validation: 100%|██████████| 79/79 [00:31<00:00,  2.53it/s]\n"
     ]
    },
    {
     "name": "stdout",
     "output_type": "stream",
     "text": [
      "Epoch 41/100 - Validation Loss: 0.1368, Accuracy: 0.9926\n",
      "Model for epoch 41 saved to Fine_Tuned_Swin_Models\\model_epoch_41.pth\n",
      "Epoch 41/100, Param Group 0 Learning Rate: 0.000089\n"
     ]
    },
    {
     "name": "stderr",
     "output_type": "stream",
     "text": [
      "Epoch 42/100 - Training: 100%|██████████| 704/704 [03:56<00:00,  2.98it/s]\n"
     ]
    },
    {
     "name": "stdout",
     "output_type": "stream",
     "text": [
      "Epoch 42/100 - Training Loss: 0.1187, Accuracy: 0.9993\n"
     ]
    },
    {
     "name": "stderr",
     "output_type": "stream",
     "text": [
      "Epoch 42/100 - Validation: 100%|██████████| 79/79 [00:31<00:00,  2.52it/s]\n"
     ]
    },
    {
     "name": "stdout",
     "output_type": "stream",
     "text": [
      "Epoch 42/100 - Validation Loss: 0.1283, Accuracy: 0.9956\n",
      "Model for epoch 42 saved to Fine_Tuned_Swin_Models\\model_epoch_42.pth\n",
      "Epoch 42/100, Param Group 0 Learning Rate: 0.000087\n"
     ]
    },
    {
     "name": "stderr",
     "output_type": "stream",
     "text": [
      "Epoch 43/100 - Training: 100%|██████████| 704/704 [03:57<00:00,  2.97it/s]\n"
     ]
    },
    {
     "name": "stdout",
     "output_type": "stream",
     "text": [
      "Epoch 43/100 - Training Loss: 0.1190, Accuracy: 0.9992\n"
     ]
    },
    {
     "name": "stderr",
     "output_type": "stream",
     "text": [
      "Epoch 43/100 - Validation: 100%|██████████| 79/79 [00:31<00:00,  2.53it/s]\n"
     ]
    },
    {
     "name": "stdout",
     "output_type": "stream",
     "text": [
      "Epoch 43/100 - Validation Loss: 0.1374, Accuracy: 0.9918\n",
      "Model for epoch 43 saved to Fine_Tuned_Swin_Models\\model_epoch_43.pth\n",
      "Epoch 43/100, Param Group 0 Learning Rate: 0.000085\n"
     ]
    },
    {
     "name": "stderr",
     "output_type": "stream",
     "text": [
      "Epoch 44/100 - Training: 100%|██████████| 704/704 [03:58<00:00,  2.96it/s]\n"
     ]
    },
    {
     "name": "stdout",
     "output_type": "stream",
     "text": [
      "Epoch 44/100 - Training Loss: 0.1183, Accuracy: 0.9995\n"
     ]
    },
    {
     "name": "stderr",
     "output_type": "stream",
     "text": [
      "Epoch 44/100 - Validation: 100%|██████████| 79/79 [00:31<00:00,  2.52it/s]\n"
     ]
    },
    {
     "name": "stdout",
     "output_type": "stream",
     "text": [
      "Epoch 44/100 - Validation Loss: 0.1327, Accuracy: 0.9940\n",
      "Model for epoch 44 saved to Fine_Tuned_Swin_Models\\model_epoch_44.pth\n",
      "Epoch 44/100, Param Group 0 Learning Rate: 0.000082\n"
     ]
    },
    {
     "name": "stderr",
     "output_type": "stream",
     "text": [
      "Epoch 45/100 - Training: 100%|██████████| 704/704 [03:57<00:00,  2.97it/s]\n"
     ]
    },
    {
     "name": "stdout",
     "output_type": "stream",
     "text": [
      "Epoch 45/100 - Training Loss: 0.1182, Accuracy: 0.9996\n"
     ]
    },
    {
     "name": "stderr",
     "output_type": "stream",
     "text": [
      "Epoch 45/100 - Validation: 100%|██████████| 79/79 [00:31<00:00,  2.48it/s]\n"
     ]
    },
    {
     "name": "stdout",
     "output_type": "stream",
     "text": [
      "Epoch 45/100 - Validation Loss: 0.1291, Accuracy: 0.9954\n",
      "Model for epoch 45 saved to Fine_Tuned_Swin_Models\\model_epoch_45.pth\n",
      "Epoch 45/100, Param Group 0 Learning Rate: 0.000080\n"
     ]
    },
    {
     "name": "stderr",
     "output_type": "stream",
     "text": [
      "Epoch 46/100 - Training: 100%|██████████| 704/704 [03:58<00:00,  2.95it/s]\n"
     ]
    },
    {
     "name": "stdout",
     "output_type": "stream",
     "text": [
      "Epoch 46/100 - Training Loss: 0.1179, Accuracy: 0.9996\n"
     ]
    },
    {
     "name": "stderr",
     "output_type": "stream",
     "text": [
      "Epoch 46/100 - Validation: 100%|██████████| 79/79 [00:31<00:00,  2.50it/s]\n"
     ]
    },
    {
     "name": "stdout",
     "output_type": "stream",
     "text": [
      "Epoch 46/100 - Validation Loss: 0.1405, Accuracy: 0.9906\n",
      "Model for epoch 46 saved to Fine_Tuned_Swin_Models\\model_epoch_46.pth\n",
      "Epoch 46/100, Param Group 0 Learning Rate: 0.000077\n"
     ]
    },
    {
     "name": "stderr",
     "output_type": "stream",
     "text": [
      "Epoch 47/100 - Training: 100%|██████████| 704/704 [04:01<00:00,  2.92it/s]\n"
     ]
    },
    {
     "name": "stdout",
     "output_type": "stream",
     "text": [
      "Epoch 47/100 - Training Loss: 0.1185, Accuracy: 0.9994\n"
     ]
    },
    {
     "name": "stderr",
     "output_type": "stream",
     "text": [
      "Epoch 47/100 - Validation: 100%|██████████| 79/79 [00:31<00:00,  2.49it/s]\n"
     ]
    },
    {
     "name": "stdout",
     "output_type": "stream",
     "text": [
      "Epoch 47/100 - Validation Loss: 0.1267, Accuracy: 0.9958\n",
      "Model for epoch 47 saved to Fine_Tuned_Swin_Models\\model_epoch_47.pth\n",
      "Epoch 47/100, Param Group 0 Learning Rate: 0.000075\n"
     ]
    },
    {
     "name": "stderr",
     "output_type": "stream",
     "text": [
      "Epoch 48/100 - Training: 100%|██████████| 704/704 [04:03<00:00,  2.90it/s]\n"
     ]
    },
    {
     "name": "stdout",
     "output_type": "stream",
     "text": [
      "Epoch 48/100 - Training Loss: 0.1183, Accuracy: 0.9995\n"
     ]
    },
    {
     "name": "stderr",
     "output_type": "stream",
     "text": [
      "Epoch 48/100 - Validation: 100%|██████████| 79/79 [00:31<00:00,  2.51it/s]\n"
     ]
    },
    {
     "name": "stdout",
     "output_type": "stream",
     "text": [
      "Epoch 48/100 - Validation Loss: 0.1307, Accuracy: 0.9944\n",
      "Model for epoch 48 saved to Fine_Tuned_Swin_Models\\model_epoch_48.pth\n",
      "Epoch 48/100, Param Group 0 Learning Rate: 0.000073\n"
     ]
    },
    {
     "name": "stderr",
     "output_type": "stream",
     "text": [
      "Epoch 49/100 - Training: 100%|██████████| 704/704 [04:00<00:00,  2.93it/s]\n"
     ]
    },
    {
     "name": "stdout",
     "output_type": "stream",
     "text": [
      "Epoch 49/100 - Training Loss: 0.1184, Accuracy: 0.9994\n"
     ]
    },
    {
     "name": "stderr",
     "output_type": "stream",
     "text": [
      "Epoch 49/100 - Validation: 100%|██████████| 79/79 [00:31<00:00,  2.51it/s]\n"
     ]
    },
    {
     "name": "stdout",
     "output_type": "stream",
     "text": [
      "Epoch 49/100 - Validation Loss: 0.1389, Accuracy: 0.9916\n",
      "Model for epoch 49 saved to Fine_Tuned_Swin_Models\\model_epoch_49.pth\n",
      "Epoch 49/100, Param Group 0 Learning Rate: 0.000070\n"
     ]
    },
    {
     "name": "stderr",
     "output_type": "stream",
     "text": [
      "Epoch 50/100 - Training: 100%|██████████| 704/704 [04:01<00:00,  2.91it/s]\n"
     ]
    },
    {
     "name": "stdout",
     "output_type": "stream",
     "text": [
      "Epoch 50/100 - Training Loss: 0.1179, Accuracy: 0.9996\n"
     ]
    },
    {
     "name": "stderr",
     "output_type": "stream",
     "text": [
      "Epoch 50/100 - Validation: 100%|██████████| 79/79 [00:32<00:00,  2.46it/s]\n"
     ]
    },
    {
     "name": "stdout",
     "output_type": "stream",
     "text": [
      "Epoch 50/100 - Validation Loss: 0.1334, Accuracy: 0.9942\n",
      "Model for epoch 50 saved to Fine_Tuned_Swin_Models\\model_epoch_50.pth\n",
      "Epoch 50/100, Param Group 0 Learning Rate: 0.000068\n"
     ]
    },
    {
     "name": "stderr",
     "output_type": "stream",
     "text": [
      "Epoch 51/100 - Training: 100%|██████████| 704/704 [04:01<00:00,  2.91it/s]\n"
     ]
    },
    {
     "name": "stdout",
     "output_type": "stream",
     "text": [
      "Epoch 51/100 - Training Loss: 0.1182, Accuracy: 0.9996\n"
     ]
    },
    {
     "name": "stderr",
     "output_type": "stream",
     "text": [
      "Epoch 51/100 - Validation: 100%|██████████| 79/79 [00:31<00:00,  2.47it/s]\n"
     ]
    },
    {
     "name": "stdout",
     "output_type": "stream",
     "text": [
      "Epoch 51/100 - Validation Loss: 0.1277, Accuracy: 0.9958\n",
      "Model for epoch 51 saved to Fine_Tuned_Swin_Models\\model_epoch_51.pth\n",
      "Epoch 51/100, Param Group 0 Learning Rate: 0.000065\n"
     ]
    },
    {
     "name": "stderr",
     "output_type": "stream",
     "text": [
      "Epoch 52/100 - Training: 100%|██████████| 704/704 [04:02<00:00,  2.91it/s]\n"
     ]
    },
    {
     "name": "stdout",
     "output_type": "stream",
     "text": [
      "Epoch 52/100 - Training Loss: 0.1179, Accuracy: 0.9997\n"
     ]
    },
    {
     "name": "stderr",
     "output_type": "stream",
     "text": [
      "Epoch 52/100 - Validation: 100%|██████████| 79/79 [00:32<00:00,  2.45it/s]\n"
     ]
    },
    {
     "name": "stdout",
     "output_type": "stream",
     "text": [
      "Epoch 52/100 - Validation Loss: 0.1345, Accuracy: 0.9936\n",
      "Model for epoch 52 saved to Fine_Tuned_Swin_Models\\model_epoch_52.pth\n",
      "Epoch 52/100, Param Group 0 Learning Rate: 0.000063\n"
     ]
    },
    {
     "name": "stderr",
     "output_type": "stream",
     "text": [
      "Epoch 53/100 - Training: 100%|██████████| 704/704 [04:02<00:00,  2.91it/s]\n"
     ]
    },
    {
     "name": "stdout",
     "output_type": "stream",
     "text": [
      "Epoch 53/100 - Training Loss: 0.1176, Accuracy: 0.9998\n"
     ]
    },
    {
     "name": "stderr",
     "output_type": "stream",
     "text": [
      "Epoch 53/100 - Validation: 100%|██████████| 79/79 [00:32<00:00,  2.46it/s]\n"
     ]
    },
    {
     "name": "stdout",
     "output_type": "stream",
     "text": [
      "Epoch 53/100 - Validation Loss: 0.1365, Accuracy: 0.9928\n",
      "Model for epoch 53 saved to Fine_Tuned_Swin_Models\\model_epoch_53.pth\n",
      "Epoch 53/100, Param Group 0 Learning Rate: 0.000061\n"
     ]
    },
    {
     "name": "stderr",
     "output_type": "stream",
     "text": [
      "Epoch 54/100 - Training: 100%|██████████| 704/704 [04:00<00:00,  2.93it/s]\n"
     ]
    },
    {
     "name": "stdout",
     "output_type": "stream",
     "text": [
      "Epoch 54/100 - Training Loss: 0.1181, Accuracy: 0.9996\n"
     ]
    },
    {
     "name": "stderr",
     "output_type": "stream",
     "text": [
      "Epoch 54/100 - Validation: 100%|██████████| 79/79 [00:31<00:00,  2.50it/s]\n"
     ]
    },
    {
     "name": "stdout",
     "output_type": "stream",
     "text": [
      "Epoch 54/100 - Validation Loss: 0.1281, Accuracy: 0.9954\n",
      "Model for epoch 54 saved to Fine_Tuned_Swin_Models\\model_epoch_54.pth\n",
      "Epoch 54/100, Param Group 0 Learning Rate: 0.000059\n"
     ]
    },
    {
     "name": "stderr",
     "output_type": "stream",
     "text": [
      "Epoch 55/100 - Training: 100%|██████████| 704/704 [04:00<00:00,  2.92it/s]\n"
     ]
    },
    {
     "name": "stdout",
     "output_type": "stream",
     "text": [
      "Epoch 55/100 - Training Loss: 0.1180, Accuracy: 0.9996\n"
     ]
    },
    {
     "name": "stderr",
     "output_type": "stream",
     "text": [
      "Epoch 55/100 - Validation: 100%|██████████| 79/79 [00:32<00:00,  2.44it/s]\n"
     ]
    },
    {
     "name": "stdout",
     "output_type": "stream",
     "text": [
      "Epoch 55/100 - Validation Loss: 0.1262, Accuracy: 0.9960\n",
      "Model for epoch 55 saved to Fine_Tuned_Swin_Models\\model_epoch_55.pth\n",
      "Epoch 55/100, Param Group 0 Learning Rate: 0.000057\n"
     ]
    },
    {
     "name": "stderr",
     "output_type": "stream",
     "text": [
      "Epoch 56/100 - Training: 100%|██████████| 704/704 [04:02<00:00,  2.90it/s]\n"
     ]
    },
    {
     "name": "stdout",
     "output_type": "stream",
     "text": [
      "Epoch 56/100 - Training Loss: 0.1175, Accuracy: 0.9999\n"
     ]
    },
    {
     "name": "stderr",
     "output_type": "stream",
     "text": [
      "Epoch 56/100 - Validation: 100%|██████████| 79/79 [00:32<00:00,  2.43it/s]\n"
     ]
    },
    {
     "name": "stdout",
     "output_type": "stream",
     "text": [
      "Epoch 56/100 - Validation Loss: 0.1345, Accuracy: 0.9936\n",
      "Model for epoch 56 saved to Fine_Tuned_Swin_Models\\model_epoch_56.pth\n",
      "Epoch 56/100, Param Group 0 Learning Rate: 0.000056\n"
     ]
    },
    {
     "name": "stderr",
     "output_type": "stream",
     "text": [
      "Epoch 57/100 - Training: 100%|██████████| 704/704 [04:01<00:00,  2.92it/s]\n"
     ]
    },
    {
     "name": "stdout",
     "output_type": "stream",
     "text": [
      "Epoch 57/100 - Training Loss: 0.1176, Accuracy: 0.9998\n"
     ]
    },
    {
     "name": "stderr",
     "output_type": "stream",
     "text": [
      "Epoch 57/100 - Validation: 100%|██████████| 79/79 [00:31<00:00,  2.48it/s]\n"
     ]
    },
    {
     "name": "stdout",
     "output_type": "stream",
     "text": [
      "Epoch 57/100 - Validation Loss: 0.1353, Accuracy: 0.9920\n",
      "Model for epoch 57 saved to Fine_Tuned_Swin_Models\\model_epoch_57.pth\n",
      "Epoch 57/100, Param Group 0 Learning Rate: 0.000054\n"
     ]
    },
    {
     "name": "stderr",
     "output_type": "stream",
     "text": [
      "Epoch 58/100 - Training: 100%|██████████| 704/704 [04:00<00:00,  2.93it/s]\n"
     ]
    },
    {
     "name": "stdout",
     "output_type": "stream",
     "text": [
      "Epoch 58/100 - Training Loss: 0.1177, Accuracy: 0.9997\n"
     ]
    },
    {
     "name": "stderr",
     "output_type": "stream",
     "text": [
      "Epoch 58/100 - Validation: 100%|██████████| 79/79 [00:31<00:00,  2.48it/s]\n"
     ]
    },
    {
     "name": "stdout",
     "output_type": "stream",
     "text": [
      "Epoch 58/100 - Validation Loss: 0.1286, Accuracy: 0.9954\n",
      "Model for epoch 58 saved to Fine_Tuned_Swin_Models\\model_epoch_58.pth\n",
      "Epoch 58/100, Param Group 0 Learning Rate: 0.000053\n"
     ]
    },
    {
     "name": "stderr",
     "output_type": "stream",
     "text": [
      "Epoch 59/100 - Training: 100%|██████████| 704/704 [04:01<00:00,  2.92it/s]\n"
     ]
    },
    {
     "name": "stdout",
     "output_type": "stream",
     "text": [
      "Epoch 59/100 - Training Loss: 0.1180, Accuracy: 0.9996\n"
     ]
    },
    {
     "name": "stderr",
     "output_type": "stream",
     "text": [
      "Epoch 59/100 - Validation: 100%|██████████| 79/79 [00:33<00:00,  2.39it/s]\n"
     ]
    },
    {
     "name": "stdout",
     "output_type": "stream",
     "text": [
      "Epoch 59/100 - Validation Loss: 0.1344, Accuracy: 0.9926\n",
      "Model for epoch 59 saved to Fine_Tuned_Swin_Models\\model_epoch_59.pth\n",
      "Epoch 59/100, Param Group 0 Learning Rate: 0.000052\n"
     ]
    },
    {
     "name": "stderr",
     "output_type": "stream",
     "text": [
      "Epoch 60/100 - Training: 100%|██████████| 704/704 [03:59<00:00,  2.94it/s]\n"
     ]
    },
    {
     "name": "stdout",
     "output_type": "stream",
     "text": [
      "Epoch 60/100 - Training Loss: 0.1176, Accuracy: 0.9998\n"
     ]
    },
    {
     "name": "stderr",
     "output_type": "stream",
     "text": [
      "Epoch 60/100 - Validation: 100%|██████████| 79/79 [00:32<00:00,  2.45it/s]\n"
     ]
    },
    {
     "name": "stdout",
     "output_type": "stream",
     "text": [
      "Epoch 60/100 - Validation Loss: 0.1286, Accuracy: 0.9950\n",
      "Model for epoch 60 saved to Fine_Tuned_Swin_Models\\model_epoch_60.pth\n",
      "Epoch 60/100, Param Group 0 Learning Rate: 0.000051\n"
     ]
    },
    {
     "name": "stderr",
     "output_type": "stream",
     "text": [
      "Epoch 61/100 - Training: 100%|██████████| 704/704 [03:58<00:00,  2.95it/s]\n"
     ]
    },
    {
     "name": "stdout",
     "output_type": "stream",
     "text": [
      "Epoch 61/100 - Training Loss: 0.1176, Accuracy: 0.9998\n"
     ]
    },
    {
     "name": "stderr",
     "output_type": "stream",
     "text": [
      "Epoch 61/100 - Validation: 100%|██████████| 79/79 [00:30<00:00,  2.57it/s]\n"
     ]
    },
    {
     "name": "stdout",
     "output_type": "stream",
     "text": [
      "Epoch 61/100 - Validation Loss: 0.1291, Accuracy: 0.9956\n",
      "Model for epoch 61 saved to Fine_Tuned_Swin_Models\\model_epoch_61.pth\n",
      "Epoch 61/100, Param Group 0 Learning Rate: 0.000050\n"
     ]
    },
    {
     "name": "stderr",
     "output_type": "stream",
     "text": [
      "Epoch 62/100 - Training: 100%|██████████| 704/704 [03:45<00:00,  3.13it/s]\n"
     ]
    },
    {
     "name": "stdout",
     "output_type": "stream",
     "text": [
      "Epoch 62/100 - Training Loss: 0.1176, Accuracy: 0.9998\n"
     ]
    },
    {
     "name": "stderr",
     "output_type": "stream",
     "text": [
      "Epoch 62/100 - Validation: 100%|██████████| 79/79 [00:30<00:00,  2.59it/s]\n"
     ]
    },
    {
     "name": "stdout",
     "output_type": "stream",
     "text": [
      "Epoch 62/100 - Validation Loss: 0.1333, Accuracy: 0.9926\n",
      "Model for epoch 62 saved to Fine_Tuned_Swin_Models\\model_epoch_62.pth\n",
      "Epoch 62/100, Param Group 0 Learning Rate: 0.000050\n"
     ]
    },
    {
     "name": "stderr",
     "output_type": "stream",
     "text": [
      "Epoch 63/100 - Training: 100%|██████████| 704/704 [03:45<00:00,  3.12it/s]\n"
     ]
    },
    {
     "name": "stdout",
     "output_type": "stream",
     "text": [
      "Epoch 63/100 - Training Loss: 0.1174, Accuracy: 0.9999\n"
     ]
    },
    {
     "name": "stderr",
     "output_type": "stream",
     "text": [
      "Epoch 63/100 - Validation: 100%|██████████| 79/79 [00:30<00:00,  2.57it/s]\n"
     ]
    },
    {
     "name": "stdout",
     "output_type": "stream",
     "text": [
      "Epoch 63/100 - Validation Loss: 0.1303, Accuracy: 0.9944\n",
      "Model for epoch 63 saved to Fine_Tuned_Swin_Models\\model_epoch_63.pth\n",
      "Epoch 63/100, Param Group 0 Learning Rate: 0.000100\n"
     ]
    },
    {
     "name": "stderr",
     "output_type": "stream",
     "text": [
      "Epoch 64/100 - Training: 100%|██████████| 704/704 [03:44<00:00,  3.14it/s]\n"
     ]
    },
    {
     "name": "stdout",
     "output_type": "stream",
     "text": [
      "Epoch 64/100 - Training Loss: 0.1185, Accuracy: 0.9995\n"
     ]
    },
    {
     "name": "stderr",
     "output_type": "stream",
     "text": [
      "Epoch 64/100 - Validation: 100%|██████████| 79/79 [00:30<00:00,  2.56it/s]\n"
     ]
    },
    {
     "name": "stdout",
     "output_type": "stream",
     "text": [
      "Epoch 64/100 - Validation Loss: 0.1268, Accuracy: 0.9948\n",
      "Model for epoch 64 saved to Fine_Tuned_Swin_Models\\model_epoch_64.pth\n",
      "Epoch 64/100, Param Group 0 Learning Rate: 0.000100\n"
     ]
    },
    {
     "name": "stderr",
     "output_type": "stream",
     "text": [
      "Epoch 65/100 - Training: 100%|██████████| 704/704 [03:44<00:00,  3.13it/s]\n"
     ]
    },
    {
     "name": "stdout",
     "output_type": "stream",
     "text": [
      "Epoch 65/100 - Training Loss: 0.1185, Accuracy: 0.9993\n"
     ]
    },
    {
     "name": "stderr",
     "output_type": "stream",
     "text": [
      "Epoch 65/100 - Validation: 100%|██████████| 79/79 [00:30<00:00,  2.59it/s]\n"
     ]
    },
    {
     "name": "stdout",
     "output_type": "stream",
     "text": [
      "Epoch 65/100 - Validation Loss: 0.1281, Accuracy: 0.9950\n",
      "Model for epoch 65 saved to Fine_Tuned_Swin_Models\\model_epoch_65.pth\n",
      "Epoch 65/100, Param Group 0 Learning Rate: 0.000100\n"
     ]
    },
    {
     "name": "stderr",
     "output_type": "stream",
     "text": [
      "Epoch 66/100 - Training: 100%|██████████| 704/704 [03:44<00:00,  3.13it/s]\n"
     ]
    },
    {
     "name": "stdout",
     "output_type": "stream",
     "text": [
      "Epoch 66/100 - Training Loss: 0.1187, Accuracy: 0.9994\n"
     ]
    },
    {
     "name": "stderr",
     "output_type": "stream",
     "text": [
      "Epoch 66/100 - Validation: 100%|██████████| 79/79 [00:30<00:00,  2.59it/s]\n"
     ]
    },
    {
     "name": "stdout",
     "output_type": "stream",
     "text": [
      "Epoch 66/100 - Validation Loss: 0.1373, Accuracy: 0.9924\n",
      "Model for epoch 66 saved to Fine_Tuned_Swin_Models\\model_epoch_66.pth\n",
      "Epoch 66/100, Param Group 0 Learning Rate: 0.000100\n"
     ]
    },
    {
     "name": "stderr",
     "output_type": "stream",
     "text": [
      "Epoch 67/100 - Training: 100%|██████████| 704/704 [03:45<00:00,  3.12it/s]\n"
     ]
    },
    {
     "name": "stdout",
     "output_type": "stream",
     "text": [
      "Epoch 67/100 - Training Loss: 0.1182, Accuracy: 0.9995\n"
     ]
    },
    {
     "name": "stderr",
     "output_type": "stream",
     "text": [
      "Epoch 67/100 - Validation: 100%|██████████| 79/79 [00:30<00:00,  2.57it/s]\n"
     ]
    },
    {
     "name": "stdout",
     "output_type": "stream",
     "text": [
      "Epoch 67/100 - Validation Loss: 0.1360, Accuracy: 0.9916\n",
      "Model for epoch 67 saved to Fine_Tuned_Swin_Models\\model_epoch_67.pth\n",
      "Epoch 67/100, Param Group 0 Learning Rate: 0.000100\n"
     ]
    },
    {
     "name": "stderr",
     "output_type": "stream",
     "text": [
      "Epoch 68/100 - Training: 100%|██████████| 704/704 [03:46<00:00,  3.11it/s]\n"
     ]
    },
    {
     "name": "stdout",
     "output_type": "stream",
     "text": [
      "Epoch 68/100 - Training Loss: 0.1184, Accuracy: 0.9994\n"
     ]
    },
    {
     "name": "stderr",
     "output_type": "stream",
     "text": [
      "Epoch 68/100 - Validation: 100%|██████████| 79/79 [00:30<00:00,  2.58it/s]\n"
     ]
    },
    {
     "name": "stdout",
     "output_type": "stream",
     "text": [
      "Epoch 68/100 - Validation Loss: 0.1302, Accuracy: 0.9954\n",
      "Model for epoch 68 saved to Fine_Tuned_Swin_Models\\model_epoch_68.pth\n",
      "Epoch 68/100, Param Group 0 Learning Rate: 0.000099\n"
     ]
    },
    {
     "name": "stderr",
     "output_type": "stream",
     "text": [
      "Epoch 69/100 - Training: 100%|██████████| 704/704 [03:46<00:00,  3.11it/s]\n"
     ]
    },
    {
     "name": "stdout",
     "output_type": "stream",
     "text": [
      "Epoch 69/100 - Training Loss: 0.1178, Accuracy: 0.9998\n"
     ]
    },
    {
     "name": "stderr",
     "output_type": "stream",
     "text": [
      "Epoch 69/100 - Validation: 100%|██████████| 79/79 [00:31<00:00,  2.50it/s]\n"
     ]
    },
    {
     "name": "stdout",
     "output_type": "stream",
     "text": [
      "Epoch 69/100 - Validation Loss: 0.1351, Accuracy: 0.9926\n",
      "Model for epoch 69 saved to Fine_Tuned_Swin_Models\\model_epoch_69.pth\n",
      "Epoch 69/100, Param Group 0 Learning Rate: 0.000099\n"
     ]
    },
    {
     "name": "stderr",
     "output_type": "stream",
     "text": [
      "Epoch 70/100 - Training: 100%|██████████| 704/704 [03:43<00:00,  3.15it/s]\n"
     ]
    },
    {
     "name": "stdout",
     "output_type": "stream",
     "text": [
      "Epoch 70/100 - Training Loss: 0.1180, Accuracy: 0.9995\n"
     ]
    },
    {
     "name": "stderr",
     "output_type": "stream",
     "text": [
      "Epoch 70/100 - Validation: 100%|██████████| 79/79 [00:28<00:00,  2.75it/s]\n"
     ]
    },
    {
     "name": "stdout",
     "output_type": "stream",
     "text": [
      "Epoch 70/100 - Validation Loss: 0.1338, Accuracy: 0.9938\n",
      "Model for epoch 70 saved to Fine_Tuned_Swin_Models\\model_epoch_70.pth\n",
      "Epoch 70/100, Param Group 0 Learning Rate: 0.000099\n"
     ]
    },
    {
     "name": "stderr",
     "output_type": "stream",
     "text": [
      "Epoch 71/100 - Training: 100%|██████████| 704/704 [03:25<00:00,  3.43it/s]\n"
     ]
    },
    {
     "name": "stdout",
     "output_type": "stream",
     "text": [
      "Epoch 71/100 - Training Loss: 0.1184, Accuracy: 0.9994\n"
     ]
    },
    {
     "name": "stderr",
     "output_type": "stream",
     "text": [
      "Epoch 71/100 - Validation: 100%|██████████| 79/79 [00:28<00:00,  2.77it/s]\n"
     ]
    },
    {
     "name": "stdout",
     "output_type": "stream",
     "text": [
      "Epoch 71/100 - Validation Loss: 0.1320, Accuracy: 0.9946\n",
      "Model for epoch 71 saved to Fine_Tuned_Swin_Models\\model_epoch_71.pth\n",
      "Epoch 71/100, Param Group 0 Learning Rate: 0.000098\n"
     ]
    },
    {
     "name": "stderr",
     "output_type": "stream",
     "text": [
      "Epoch 72/100 - Training: 100%|██████████| 704/704 [03:24<00:00,  3.44it/s]\n"
     ]
    },
    {
     "name": "stdout",
     "output_type": "stream",
     "text": [
      "Epoch 72/100 - Training Loss: 0.1180, Accuracy: 0.9996\n"
     ]
    },
    {
     "name": "stderr",
     "output_type": "stream",
     "text": [
      "Epoch 72/100 - Validation: 100%|██████████| 79/79 [00:28<00:00,  2.76it/s]\n"
     ]
    },
    {
     "name": "stdout",
     "output_type": "stream",
     "text": [
      "Epoch 72/100 - Validation Loss: 0.1283, Accuracy: 0.9958\n",
      "Model for epoch 72 saved to Fine_Tuned_Swin_Models\\model_epoch_72.pth\n",
      "Epoch 72/100, Param Group 0 Learning Rate: 0.000098\n"
     ]
    },
    {
     "name": "stderr",
     "output_type": "stream",
     "text": [
      "Epoch 73/100 - Training: 100%|██████████| 704/704 [03:24<00:00,  3.43it/s]\n"
     ]
    },
    {
     "name": "stdout",
     "output_type": "stream",
     "text": [
      "Epoch 73/100 - Training Loss: 0.1183, Accuracy: 0.9996\n"
     ]
    },
    {
     "name": "stderr",
     "output_type": "stream",
     "text": [
      "Epoch 73/100 - Validation: 100%|██████████| 79/79 [00:28<00:00,  2.78it/s]\n"
     ]
    },
    {
     "name": "stdout",
     "output_type": "stream",
     "text": [
      "Epoch 73/100 - Validation Loss: 0.1288, Accuracy: 0.9954\n",
      "Model for epoch 73 saved to Fine_Tuned_Swin_Models\\model_epoch_73.pth\n",
      "Epoch 73/100, Param Group 0 Learning Rate: 0.000097\n"
     ]
    },
    {
     "name": "stderr",
     "output_type": "stream",
     "text": [
      "Epoch 74/100 - Training: 100%|██████████| 704/704 [03:24<00:00,  3.44it/s]\n"
     ]
    },
    {
     "name": "stdout",
     "output_type": "stream",
     "text": [
      "Epoch 74/100 - Training Loss: 0.1179, Accuracy: 0.9997\n"
     ]
    },
    {
     "name": "stderr",
     "output_type": "stream",
     "text": [
      "Epoch 74/100 - Validation: 100%|██████████| 79/79 [00:28<00:00,  2.77it/s]\n"
     ]
    },
    {
     "name": "stdout",
     "output_type": "stream",
     "text": [
      "Epoch 74/100 - Validation Loss: 0.1306, Accuracy: 0.9948\n",
      "Model for epoch 74 saved to Fine_Tuned_Swin_Models\\model_epoch_74.pth\n",
      "Epoch 74/100, Param Group 0 Learning Rate: 0.000096\n"
     ]
    },
    {
     "name": "stderr",
     "output_type": "stream",
     "text": [
      "Epoch 75/100 - Training: 100%|██████████| 704/704 [03:24<00:00,  3.44it/s]\n"
     ]
    },
    {
     "name": "stdout",
     "output_type": "stream",
     "text": [
      "Epoch 75/100 - Training Loss: 0.1182, Accuracy: 0.9996\n"
     ]
    },
    {
     "name": "stderr",
     "output_type": "stream",
     "text": [
      "Epoch 75/100 - Validation: 100%|██████████| 79/79 [00:28<00:00,  2.77it/s]\n"
     ]
    },
    {
     "name": "stdout",
     "output_type": "stream",
     "text": [
      "Epoch 75/100 - Validation Loss: 0.1301, Accuracy: 0.9946\n",
      "Model for epoch 75 saved to Fine_Tuned_Swin_Models\\model_epoch_75.pth\n",
      "Epoch 75/100, Param Group 0 Learning Rate: 0.000096\n"
     ]
    },
    {
     "name": "stderr",
     "output_type": "stream",
     "text": [
      "Epoch 76/100 - Training: 100%|██████████| 704/704 [03:24<00:00,  3.44it/s]\n"
     ]
    },
    {
     "name": "stdout",
     "output_type": "stream",
     "text": [
      "Epoch 76/100 - Training Loss: 0.1181, Accuracy: 0.9996\n"
     ]
    },
    {
     "name": "stderr",
     "output_type": "stream",
     "text": [
      "Epoch 76/100 - Validation: 100%|██████████| 79/79 [00:28<00:00,  2.78it/s]\n"
     ]
    },
    {
     "name": "stdout",
     "output_type": "stream",
     "text": [
      "Epoch 76/100 - Validation Loss: 0.1399, Accuracy: 0.9912\n",
      "Model for epoch 76 saved to Fine_Tuned_Swin_Models\\model_epoch_76.pth\n",
      "Epoch 76/100, Param Group 0 Learning Rate: 0.000095\n"
     ]
    },
    {
     "name": "stderr",
     "output_type": "stream",
     "text": [
      "Epoch 77/100 - Training: 100%|██████████| 704/704 [03:24<00:00,  3.44it/s]\n"
     ]
    },
    {
     "name": "stdout",
     "output_type": "stream",
     "text": [
      "Epoch 77/100 - Training Loss: 0.1186, Accuracy: 0.9993\n"
     ]
    },
    {
     "name": "stderr",
     "output_type": "stream",
     "text": [
      "Epoch 77/100 - Validation: 100%|██████████| 79/79 [00:28<00:00,  2.77it/s]\n"
     ]
    },
    {
     "name": "stdout",
     "output_type": "stream",
     "text": [
      "Epoch 77/100 - Validation Loss: 0.1343, Accuracy: 0.9936\n",
      "Model for epoch 77 saved to Fine_Tuned_Swin_Models\\model_epoch_77.pth\n",
      "Epoch 77/100, Param Group 0 Learning Rate: 0.000094\n"
     ]
    },
    {
     "name": "stderr",
     "output_type": "stream",
     "text": [
      "Epoch 78/100 - Training: 100%|██████████| 704/704 [03:24<00:00,  3.44it/s]\n"
     ]
    },
    {
     "name": "stdout",
     "output_type": "stream",
     "text": [
      "Epoch 78/100 - Training Loss: 0.1177, Accuracy: 0.9998\n"
     ]
    },
    {
     "name": "stderr",
     "output_type": "stream",
     "text": [
      "Epoch 78/100 - Validation: 100%|██████████| 79/79 [00:28<00:00,  2.76it/s]\n"
     ]
    },
    {
     "name": "stdout",
     "output_type": "stream",
     "text": [
      "Epoch 78/100 - Validation Loss: 0.1342, Accuracy: 0.9930\n",
      "Model for epoch 78 saved to Fine_Tuned_Swin_Models\\model_epoch_78.pth\n",
      "Epoch 78/100, Param Group 0 Learning Rate: 0.000094\n"
     ]
    },
    {
     "name": "stderr",
     "output_type": "stream",
     "text": [
      "Epoch 79/100 - Training: 100%|██████████| 704/704 [03:24<00:00,  3.44it/s]\n"
     ]
    },
    {
     "name": "stdout",
     "output_type": "stream",
     "text": [
      "Epoch 79/100 - Training Loss: 0.1182, Accuracy: 0.9996\n"
     ]
    },
    {
     "name": "stderr",
     "output_type": "stream",
     "text": [
      "Epoch 79/100 - Validation: 100%|██████████| 79/79 [00:28<00:00,  2.78it/s]\n"
     ]
    },
    {
     "name": "stdout",
     "output_type": "stream",
     "text": [
      "Epoch 79/100 - Validation Loss: 0.1353, Accuracy: 0.9928\n",
      "Model for epoch 79 saved to Fine_Tuned_Swin_Models\\model_epoch_79.pth\n",
      "Epoch 79/100, Param Group 0 Learning Rate: 0.000093\n"
     ]
    },
    {
     "name": "stderr",
     "output_type": "stream",
     "text": [
      "Epoch 80/100 - Training: 100%|██████████| 704/704 [03:24<00:00,  3.44it/s]\n"
     ]
    },
    {
     "name": "stdout",
     "output_type": "stream",
     "text": [
      "Epoch 80/100 - Training Loss: 0.1179, Accuracy: 0.9997\n"
     ]
    },
    {
     "name": "stderr",
     "output_type": "stream",
     "text": [
      "Epoch 80/100 - Validation: 100%|██████████| 79/79 [00:28<00:00,  2.78it/s]\n"
     ]
    },
    {
     "name": "stdout",
     "output_type": "stream",
     "text": [
      "Epoch 80/100 - Validation Loss: 0.1347, Accuracy: 0.9934\n",
      "Model for epoch 80 saved to Fine_Tuned_Swin_Models\\model_epoch_80.pth\n",
      "Epoch 80/100, Param Group 0 Learning Rate: 0.000092\n"
     ]
    },
    {
     "name": "stderr",
     "output_type": "stream",
     "text": [
      "Epoch 81/100 - Training: 100%|██████████| 704/704 [03:24<00:00,  3.44it/s]\n"
     ]
    },
    {
     "name": "stdout",
     "output_type": "stream",
     "text": [
      "Epoch 81/100 - Training Loss: 0.1177, Accuracy: 0.9996\n"
     ]
    },
    {
     "name": "stderr",
     "output_type": "stream",
     "text": [
      "Epoch 81/100 - Validation: 100%|██████████| 79/79 [00:28<00:00,  2.78it/s]\n"
     ]
    },
    {
     "name": "stdout",
     "output_type": "stream",
     "text": [
      "Epoch 81/100 - Validation Loss: 0.1323, Accuracy: 0.9944\n",
      "Model for epoch 81 saved to Fine_Tuned_Swin_Models\\model_epoch_81.pth\n",
      "Epoch 81/100, Param Group 0 Learning Rate: 0.000091\n"
     ]
    },
    {
     "name": "stderr",
     "output_type": "stream",
     "text": [
      "Epoch 82/100 - Training: 100%|██████████| 704/704 [03:24<00:00,  3.44it/s]\n"
     ]
    },
    {
     "name": "stdout",
     "output_type": "stream",
     "text": [
      "Epoch 82/100 - Training Loss: 0.1181, Accuracy: 0.9996\n"
     ]
    },
    {
     "name": "stderr",
     "output_type": "stream",
     "text": [
      "Epoch 82/100 - Validation: 100%|██████████| 79/79 [00:28<00:00,  2.77it/s]\n"
     ]
    },
    {
     "name": "stdout",
     "output_type": "stream",
     "text": [
      "Epoch 82/100 - Validation Loss: 0.1375, Accuracy: 0.9924\n",
      "Model for epoch 82 saved to Fine_Tuned_Swin_Models\\model_epoch_82.pth\n",
      "Epoch 82/100, Param Group 0 Learning Rate: 0.000090\n"
     ]
    },
    {
     "name": "stderr",
     "output_type": "stream",
     "text": [
      "Epoch 83/100 - Training: 100%|██████████| 704/704 [03:24<00:00,  3.44it/s]\n"
     ]
    },
    {
     "name": "stdout",
     "output_type": "stream",
     "text": [
      "Epoch 83/100 - Training Loss: 0.1176, Accuracy: 0.9998\n"
     ]
    },
    {
     "name": "stderr",
     "output_type": "stream",
     "text": [
      "Epoch 83/100 - Validation: 100%|██████████| 79/79 [00:28<00:00,  2.79it/s]\n"
     ]
    },
    {
     "name": "stdout",
     "output_type": "stream",
     "text": [
      "Epoch 83/100 - Validation Loss: 0.1279, Accuracy: 0.9958\n",
      "Model for epoch 83 saved to Fine_Tuned_Swin_Models\\model_epoch_83.pth\n",
      "Epoch 83/100, Param Group 0 Learning Rate: 0.000089\n"
     ]
    },
    {
     "name": "stderr",
     "output_type": "stream",
     "text": [
      "Epoch 84/100 - Training: 100%|██████████| 704/704 [03:24<00:00,  3.44it/s]\n"
     ]
    },
    {
     "name": "stdout",
     "output_type": "stream",
     "text": [
      "Epoch 84/100 - Training Loss: 0.1180, Accuracy: 0.9996\n"
     ]
    },
    {
     "name": "stderr",
     "output_type": "stream",
     "text": [
      "Epoch 84/100 - Validation: 100%|██████████| 79/79 [00:28<00:00,  2.78it/s]\n"
     ]
    },
    {
     "name": "stdout",
     "output_type": "stream",
     "text": [
      "Epoch 84/100 - Validation Loss: 0.1260, Accuracy: 0.9966\n",
      "Model for epoch 84 saved to Fine_Tuned_Swin_Models\\model_epoch_84.pth\n",
      "Epoch 84/100, Param Group 0 Learning Rate: 0.000088\n"
     ]
    },
    {
     "name": "stderr",
     "output_type": "stream",
     "text": [
      "Epoch 85/100 - Training: 100%|██████████| 704/704 [03:24<00:00,  3.44it/s]\n"
     ]
    },
    {
     "name": "stdout",
     "output_type": "stream",
     "text": [
      "Epoch 85/100 - Training Loss: 0.1180, Accuracy: 0.9995\n"
     ]
    },
    {
     "name": "stderr",
     "output_type": "stream",
     "text": [
      "Epoch 85/100 - Validation: 100%|██████████| 79/79 [00:28<00:00,  2.78it/s]\n"
     ]
    },
    {
     "name": "stdout",
     "output_type": "stream",
     "text": [
      "Epoch 85/100 - Validation Loss: 0.1360, Accuracy: 0.9928\n",
      "Model for epoch 85 saved to Fine_Tuned_Swin_Models\\model_epoch_85.pth\n",
      "Epoch 85/100, Param Group 0 Learning Rate: 0.000087\n"
     ]
    },
    {
     "name": "stderr",
     "output_type": "stream",
     "text": [
      "Epoch 86/100 - Training: 100%|██████████| 704/704 [03:24<00:00,  3.44it/s]\n"
     ]
    },
    {
     "name": "stdout",
     "output_type": "stream",
     "text": [
      "Epoch 86/100 - Training Loss: 0.1176, Accuracy: 0.9998\n"
     ]
    },
    {
     "name": "stderr",
     "output_type": "stream",
     "text": [
      "Epoch 86/100 - Validation: 100%|██████████| 79/79 [00:28<00:00,  2.77it/s]\n"
     ]
    },
    {
     "name": "stdout",
     "output_type": "stream",
     "text": [
      "Epoch 86/100 - Validation Loss: 0.1329, Accuracy: 0.9934\n",
      "Model for epoch 86 saved to Fine_Tuned_Swin_Models\\model_epoch_86.pth\n",
      "Epoch 86/100, Param Group 0 Learning Rate: 0.000086\n"
     ]
    },
    {
     "name": "stderr",
     "output_type": "stream",
     "text": [
      "Epoch 87/100 - Training: 100%|██████████| 704/704 [03:24<00:00,  3.44it/s]\n"
     ]
    },
    {
     "name": "stdout",
     "output_type": "stream",
     "text": [
      "Epoch 87/100 - Training Loss: 0.1180, Accuracy: 0.9996\n"
     ]
    },
    {
     "name": "stderr",
     "output_type": "stream",
     "text": [
      "Epoch 87/100 - Validation: 100%|██████████| 79/79 [00:28<00:00,  2.77it/s]\n"
     ]
    },
    {
     "name": "stdout",
     "output_type": "stream",
     "text": [
      "Epoch 87/100 - Validation Loss: 0.1290, Accuracy: 0.9946\n",
      "Model for epoch 87 saved to Fine_Tuned_Swin_Models\\model_epoch_87.pth\n",
      "Epoch 87/100, Param Group 0 Learning Rate: 0.000085\n"
     ]
    },
    {
     "name": "stderr",
     "output_type": "stream",
     "text": [
      "Epoch 88/100 - Training: 100%|██████████| 704/704 [03:24<00:00,  3.44it/s]\n"
     ]
    },
    {
     "name": "stdout",
     "output_type": "stream",
     "text": [
      "Epoch 88/100 - Training Loss: 0.1176, Accuracy: 0.9998\n"
     ]
    },
    {
     "name": "stderr",
     "output_type": "stream",
     "text": [
      "Epoch 88/100 - Validation: 100%|██████████| 79/79 [00:28<00:00,  2.77it/s]\n"
     ]
    },
    {
     "name": "stdout",
     "output_type": "stream",
     "text": [
      "Epoch 88/100 - Validation Loss: 0.1352, Accuracy: 0.9926\n",
      "Model for epoch 88 saved to Fine_Tuned_Swin_Models\\model_epoch_88.pth\n",
      "Epoch 88/100, Param Group 0 Learning Rate: 0.000083\n"
     ]
    },
    {
     "name": "stderr",
     "output_type": "stream",
     "text": [
      "Epoch 89/100 - Training: 100%|██████████| 704/704 [03:24<00:00,  3.44it/s]\n"
     ]
    },
    {
     "name": "stdout",
     "output_type": "stream",
     "text": [
      "Epoch 89/100 - Training Loss: 0.1177, Accuracy: 0.9998\n"
     ]
    },
    {
     "name": "stderr",
     "output_type": "stream",
     "text": [
      "Epoch 89/100 - Validation: 100%|██████████| 79/79 [00:28<00:00,  2.77it/s]\n"
     ]
    },
    {
     "name": "stdout",
     "output_type": "stream",
     "text": [
      "Epoch 89/100 - Validation Loss: 0.1319, Accuracy: 0.9944\n",
      "Model for epoch 89 saved to Fine_Tuned_Swin_Models\\model_epoch_89.pth\n",
      "Epoch 89/100, Param Group 0 Learning Rate: 0.000082\n"
     ]
    },
    {
     "name": "stderr",
     "output_type": "stream",
     "text": [
      "Epoch 90/100 - Training: 100%|██████████| 704/704 [03:26<00:00,  3.41it/s]\n"
     ]
    },
    {
     "name": "stdout",
     "output_type": "stream",
     "text": [
      "Epoch 90/100 - Training Loss: 0.1179, Accuracy: 0.9995\n"
     ]
    },
    {
     "name": "stderr",
     "output_type": "stream",
     "text": [
      "Epoch 90/100 - Validation: 100%|██████████| 79/79 [00:28<00:00,  2.77it/s]\n"
     ]
    },
    {
     "name": "stdout",
     "output_type": "stream",
     "text": [
      "Epoch 90/100 - Validation Loss: 0.1312, Accuracy: 0.9936\n",
      "Model for epoch 90 saved to Fine_Tuned_Swin_Models\\model_epoch_90.pth\n",
      "Epoch 90/100, Param Group 0 Learning Rate: 0.000081\n"
     ]
    },
    {
     "name": "stderr",
     "output_type": "stream",
     "text": [
      "Epoch 91/100 - Training: 100%|██████████| 704/704 [03:26<00:00,  3.42it/s]\n"
     ]
    },
    {
     "name": "stdout",
     "output_type": "stream",
     "text": [
      "Epoch 91/100 - Training Loss: 0.1179, Accuracy: 0.9996\n"
     ]
    },
    {
     "name": "stderr",
     "output_type": "stream",
     "text": [
      "Epoch 91/100 - Validation: 100%|██████████| 79/79 [00:28<00:00,  2.76it/s]\n"
     ]
    },
    {
     "name": "stdout",
     "output_type": "stream",
     "text": [
      "Epoch 91/100 - Validation Loss: 0.1280, Accuracy: 0.9952\n",
      "Model for epoch 91 saved to Fine_Tuned_Swin_Models\\model_epoch_91.pth\n",
      "Epoch 91/100, Param Group 0 Learning Rate: 0.000080\n"
     ]
    },
    {
     "name": "stderr",
     "output_type": "stream",
     "text": [
      "Epoch 92/100 - Training: 100%|██████████| 704/704 [03:25<00:00,  3.42it/s]\n"
     ]
    },
    {
     "name": "stdout",
     "output_type": "stream",
     "text": [
      "Epoch 92/100 - Training Loss: 0.1174, Accuracy: 0.9999\n"
     ]
    },
    {
     "name": "stderr",
     "output_type": "stream",
     "text": [
      "Epoch 92/100 - Validation: 100%|██████████| 79/79 [00:28<00:00,  2.76it/s]\n"
     ]
    },
    {
     "name": "stdout",
     "output_type": "stream",
     "text": [
      "Epoch 92/100 - Validation Loss: 0.1312, Accuracy: 0.9946\n",
      "Model for epoch 92 saved to Fine_Tuned_Swin_Models\\model_epoch_92.pth\n",
      "Epoch 92/100, Param Group 0 Learning Rate: 0.000079\n"
     ]
    },
    {
     "name": "stderr",
     "output_type": "stream",
     "text": [
      "Epoch 93/100 - Training: 100%|██████████| 704/704 [03:25<00:00,  3.42it/s]\n"
     ]
    },
    {
     "name": "stdout",
     "output_type": "stream",
     "text": [
      "Epoch 93/100 - Training Loss: 0.1178, Accuracy: 0.9997\n"
     ]
    },
    {
     "name": "stderr",
     "output_type": "stream",
     "text": [
      "Epoch 93/100 - Validation: 100%|██████████| 79/79 [00:28<00:00,  2.76it/s]\n"
     ]
    },
    {
     "name": "stdout",
     "output_type": "stream",
     "text": [
      "Epoch 93/100 - Validation Loss: 0.1297, Accuracy: 0.9956\n",
      "Model for epoch 93 saved to Fine_Tuned_Swin_Models\\model_epoch_93.pth\n",
      "Epoch 93/100, Param Group 0 Learning Rate: 0.000077\n"
     ]
    },
    {
     "name": "stderr",
     "output_type": "stream",
     "text": [
      "Epoch 94/100 - Training: 100%|██████████| 704/704 [03:25<00:00,  3.42it/s]\n"
     ]
    },
    {
     "name": "stdout",
     "output_type": "stream",
     "text": [
      "Epoch 94/100 - Training Loss: 0.1177, Accuracy: 0.9997\n"
     ]
    },
    {
     "name": "stderr",
     "output_type": "stream",
     "text": [
      "Epoch 94/100 - Validation: 100%|██████████| 79/79 [00:28<00:00,  2.76it/s]\n"
     ]
    },
    {
     "name": "stdout",
     "output_type": "stream",
     "text": [
      "Epoch 94/100 - Validation Loss: 0.1363, Accuracy: 0.9922\n",
      "Model for epoch 94 saved to Fine_Tuned_Swin_Models\\model_epoch_94.pth\n",
      "Epoch 94/100, Param Group 0 Learning Rate: 0.000076\n"
     ]
    },
    {
     "name": "stderr",
     "output_type": "stream",
     "text": [
      "Epoch 95/100 - Training: 100%|██████████| 704/704 [03:25<00:00,  3.42it/s]\n"
     ]
    },
    {
     "name": "stdout",
     "output_type": "stream",
     "text": [
      "Epoch 95/100 - Training Loss: 0.1176, Accuracy: 0.9998\n"
     ]
    },
    {
     "name": "stderr",
     "output_type": "stream",
     "text": [
      "Epoch 95/100 - Validation: 100%|██████████| 79/79 [00:28<00:00,  2.76it/s]\n"
     ]
    },
    {
     "name": "stdout",
     "output_type": "stream",
     "text": [
      "Epoch 95/100 - Validation Loss: 0.1341, Accuracy: 0.9934\n",
      "Model for epoch 95 saved to Fine_Tuned_Swin_Models\\model_epoch_95.pth\n",
      "Epoch 95/100, Param Group 0 Learning Rate: 0.000075\n"
     ]
    },
    {
     "name": "stderr",
     "output_type": "stream",
     "text": [
      "Epoch 96/100 - Training: 100%|██████████| 704/704 [03:25<00:00,  3.42it/s]\n"
     ]
    },
    {
     "name": "stdout",
     "output_type": "stream",
     "text": [
      "Epoch 96/100 - Training Loss: 0.1176, Accuracy: 0.9998\n"
     ]
    },
    {
     "name": "stderr",
     "output_type": "stream",
     "text": [
      "Epoch 96/100 - Validation: 100%|██████████| 79/79 [00:28<00:00,  2.76it/s]\n"
     ]
    },
    {
     "name": "stdout",
     "output_type": "stream",
     "text": [
      "Epoch 96/100 - Validation Loss: 0.1343, Accuracy: 0.9928\n",
      "Model for epoch 96 saved to Fine_Tuned_Swin_Models\\model_epoch_96.pth\n",
      "Epoch 96/100, Param Group 0 Learning Rate: 0.000074\n"
     ]
    },
    {
     "name": "stderr",
     "output_type": "stream",
     "text": [
      "Epoch 97/100 - Training: 100%|██████████| 704/704 [03:25<00:00,  3.42it/s]\n"
     ]
    },
    {
     "name": "stdout",
     "output_type": "stream",
     "text": [
      "Epoch 97/100 - Training Loss: 0.1173, Accuracy: 0.9999\n"
     ]
    },
    {
     "name": "stderr",
     "output_type": "stream",
     "text": [
      "Epoch 97/100 - Validation: 100%|██████████| 79/79 [00:28<00:00,  2.76it/s]\n"
     ]
    },
    {
     "name": "stdout",
     "output_type": "stream",
     "text": [
      "Epoch 97/100 - Validation Loss: 0.1313, Accuracy: 0.9944\n",
      "Model for epoch 97 saved to Fine_Tuned_Swin_Models\\model_epoch_97.pth\n",
      "Epoch 97/100, Param Group 0 Learning Rate: 0.000073\n"
     ]
    },
    {
     "name": "stderr",
     "output_type": "stream",
     "text": [
      "Epoch 98/100 - Training: 100%|██████████| 704/704 [03:26<00:00,  3.42it/s]\n"
     ]
    },
    {
     "name": "stdout",
     "output_type": "stream",
     "text": [
      "Epoch 98/100 - Training Loss: 0.1176, Accuracy: 0.9998\n"
     ]
    },
    {
     "name": "stderr",
     "output_type": "stream",
     "text": [
      "Epoch 98/100 - Validation: 100%|██████████| 79/79 [00:28<00:00,  2.76it/s]\n"
     ]
    },
    {
     "name": "stdout",
     "output_type": "stream",
     "text": [
      "Epoch 98/100 - Validation Loss: 0.1331, Accuracy: 0.9934\n",
      "Model for epoch 98 saved to Fine_Tuned_Swin_Models\\model_epoch_98.pth\n",
      "Epoch 98/100, Param Group 0 Learning Rate: 0.000071\n"
     ]
    },
    {
     "name": "stderr",
     "output_type": "stream",
     "text": [
      "Epoch 99/100 - Training: 100%|██████████| 704/704 [03:25<00:00,  3.42it/s]\n"
     ]
    },
    {
     "name": "stdout",
     "output_type": "stream",
     "text": [
      "Epoch 99/100 - Training Loss: 0.1173, Accuracy: 0.9999\n"
     ]
    },
    {
     "name": "stderr",
     "output_type": "stream",
     "text": [
      "Epoch 99/100 - Validation: 100%|██████████| 79/79 [00:28<00:00,  2.76it/s]\n"
     ]
    },
    {
     "name": "stdout",
     "output_type": "stream",
     "text": [
      "Epoch 99/100 - Validation Loss: 0.1283, Accuracy: 0.9958\n",
      "Model for epoch 99 saved to Fine_Tuned_Swin_Models\\model_epoch_99.pth\n",
      "Epoch 99/100, Param Group 0 Learning Rate: 0.000070\n"
     ]
    },
    {
     "name": "stderr",
     "output_type": "stream",
     "text": [
      "Epoch 100/100 - Training: 100%|██████████| 704/704 [03:25<00:00,  3.42it/s]\n"
     ]
    },
    {
     "name": "stdout",
     "output_type": "stream",
     "text": [
      "Epoch 100/100 - Training Loss: 0.1176, Accuracy: 0.9998\n"
     ]
    },
    {
     "name": "stderr",
     "output_type": "stream",
     "text": [
      "Epoch 100/100 - Validation: 100%|██████████| 79/79 [00:28<00:00,  2.76it/s]"
     ]
    },
    {
     "name": "stdout",
     "output_type": "stream",
     "text": [
      "Epoch 100/100 - Validation Loss: 0.1363, Accuracy: 0.9924\n",
      "Model for epoch 100 saved to Fine_Tuned_Swin_Models\\model_epoch_100.pth\n",
      "Epoch 100/100, Param Group 0 Learning Rate: 0.000069\n"
     ]
    },
    {
     "name": "stderr",
     "output_type": "stream",
     "text": [
      "\n"
     ]
    }
   ],
   "source": [
    "import torch\n",
    "import torch.nn as nn\n",
    "from torchvision import datasets, transforms\n",
    "from torch.utils.data import DataLoader\n",
    "import timm\n",
    "import torch.optim as optim\n",
    "from torch.optim import lr_scheduler\n",
    "from tqdm import tqdm\n",
    "from torch.utils.tensorboard import SummaryWriter\n",
    "from torch.amp import autocast, GradScaler  \n",
    "from torch.optim.lr_scheduler import CosineAnnealingWarmRestarts\n",
    "\n",
    "\n",
    "writer = SummaryWriter(log_dir=f'runs/{save_dir}')\n",
    "device = torch.device(\"cuda\" if torch.cuda.is_available() else \"cpu\")\n",
    "\n",
    "\n",
    "train_transform = transforms.Compose([\n",
    "    transforms.RandomResizedCrop(256, scale=(0.9, 1.0), ratio=(1.0, 1.0)),  \n",
    "    transforms.RandomHorizontalFlip(p=0.5),\n",
    "    transforms.RandomVerticalFlip(p=0.5),\n",
    "    transforms.ToTensor(),\n",
    "    transforms.Normalize(\n",
    "        mean=[0.4811, 0.4579, 0.4188],\n",
    "        std=[0.2482, 0.2423, 0.2464]\n",
    "    )\n",
    "])\n",
    "\n",
    "val_transform = transforms.Compose([\n",
    "    transforms.Resize(256),\n",
    "    transforms.CenterCrop(256),\n",
    "    transforms.ToTensor(),\n",
    "    transforms.Normalize(\n",
    "        mean=[0.4811, 0.4579, 0.4188],\n",
    "        std=[0.2482, 0.2423, 0.2464]\n",
    "    )\n",
    "])\n",
    "\n",
    "\n",
    "train_dataset = datasets.ImageFolder(\n",
    "    root=f'{dataset_path}/train',\n",
    "    transform=train_transform\n",
    ")\n",
    "val_dataset = datasets.ImageFolder(\n",
    "    root=f'{dataset_path}/val',\n",
    "    transform=val_transform\n",
    ")\n",
    "\n",
    "\n",
    "train_loader = DataLoader(\n",
    "    train_dataset,\n",
    "    batch_size=batch_size,\n",
    "    shuffle=True,\n",
    "    num_workers=4,  \n",
    "    pin_memory=True\n",
    ")\n",
    "val_loader = DataLoader(\n",
    "    val_dataset,\n",
    "    batch_size=batch_size,\n",
    "    shuffle=False,\n",
    "    num_workers=4,\n",
    "    pin_memory=True\n",
    ")\n",
    "\n",
    "\n",
    "model = timm.create_model(\n",
    "    model_name,\n",
    "    pretrained=True,\n",
    "    num_classes=2  \n",
    ")\n",
    "\n",
    "\n",
    "\n",
    "for param in model.parameters():\n",
    "    param.requires_grad = False\n",
    "\n",
    "for name, param in model.named_parameters():\n",
    "    if 'layers.3' in name:\n",
    "        param.requires_grad = True\n",
    "    elif 'head' in name:\n",
    "        param.requires_grad = True\n",
    "    elif name == \"norm.weight\":\n",
    "        param.requires_grad = True\n",
    "    elif name == \"norm.bias\":\n",
    "        param.requires_grad = True\n",
    "\n",
    "model.to(device)\n",
    "\n",
    "criterion = nn.CrossEntropyLoss(label_smoothing=0.05)\n",
    "\n",
    "\n",
    "optimizer = torch.optim.AdamW(\n",
    "    model.parameters(),  \n",
    "    lr=1e-4,             \n",
    "    weight_decay=1e-4    \n",
    ")\n",
    "\n",
    "\n",
    "\n",
    "scheduler = CosineAnnealingWarmRestarts(\n",
    "    optimizer,\n",
    "    T_0=len(train_loader),      \n",
    "    T_mult=2,    \n",
    "    eta_min=5e-5 \n",
    ")\n",
    "\n",
    "\n",
    "scaler = GradScaler(\"cuda\")\n",
    "best_acc = 0.0  \n",
    "val_loss_record = []\n",
    "val_accuracy_record = []\n",
    "\n",
    "for epoch in range(num_epochs):\n",
    "    \n",
    "    model.train()\n",
    "    running_loss = 0.0\n",
    "    correct_preds = 0\n",
    "\n",
    "    for images, labels in tqdm(train_loader, desc=f\"Epoch {epoch+1}/{num_epochs} - Training\"):\n",
    "        images = images.to(device, non_blocking=True)\n",
    "        labels = labels.to(device, non_blocking=True)\n",
    "\n",
    "        optimizer.zero_grad()\n",
    "\n",
    "        with autocast(\"cuda\"):\n",
    "            outputs = model(images)\n",
    "            loss = criterion(outputs, labels)\n",
    "\n",
    "        scaler.scale(loss).backward()\n",
    "        scaler.step(optimizer)\n",
    "        scaler.update()\n",
    "\n",
    "        scheduler.step()\n",
    "\n",
    "        \n",
    "        running_loss += loss.item() * images.size(0)\n",
    "        _, preds = torch.max(outputs, 1)\n",
    "        correct_preds += torch.sum(preds == labels.data)\n",
    "\n",
    "    epoch_loss = running_loss / len(train_dataset)\n",
    "    epoch_acc = correct_preds.double() / len(train_dataset)\n",
    "    print(f\"Epoch {epoch+1}/{num_epochs} - Training Loss: {epoch_loss:.4f}, Accuracy: {epoch_acc:.4f}\")\n",
    "\n",
    "    \n",
    "    writer.add_scalar('Loss/Train', epoch_loss, epoch)\n",
    "    writer.add_scalar('Accuracy/Train', epoch_acc, epoch)\n",
    "\n",
    "    \n",
    "    model.eval()\n",
    "    val_running_loss = 0.0\n",
    "    val_correct_preds = 0\n",
    "\n",
    "    with torch.no_grad():\n",
    "        for images, labels in tqdm(val_loader, desc=f\"Epoch {epoch+1}/{num_epochs} - Validation\"):\n",
    "            images = images.to(device, non_blocking=True)\n",
    "            labels = labels.to(device, non_blocking=True)\n",
    "\n",
    "            \n",
    "            with autocast(\"cuda\"):\n",
    "                outputs = model(images)\n",
    "                loss = criterion(outputs, labels)\n",
    "\n",
    "            \n",
    "            val_running_loss += loss.item() * images.size(0)\n",
    "            _, preds = torch.max(outputs, 1)\n",
    "            val_correct_preds += torch.sum(preds == labels.data)\n",
    "\n",
    "    val_epoch_loss = val_running_loss / len(val_dataset)\n",
    "    val_epoch_acc = val_correct_preds.double() / len(val_dataset)\n",
    "    val_loss_record.append(val_epoch_loss)\n",
    "    val_accuracy_record.append(val_epoch_acc)\n",
    "    print(f\"Epoch {epoch+1}/{num_epochs} - Validation Loss: {val_epoch_loss:.4f}, Accuracy: {val_epoch_acc:.4f}\")\n",
    "\n",
    "    \n",
    "    writer.add_scalar('Loss/Validation', val_epoch_loss, epoch)\n",
    "    writer.add_scalar('Accuracy/Validation', val_epoch_acc, epoch)\n",
    "\n",
    "    \n",
    "    epoch_save_path = os.path.join(save_dir, f'model_epoch_{epoch+1}.pth')\n",
    "    torch.save(model.state_dict(), epoch_save_path)\n",
    "    print(f\"Model for epoch {epoch+1} saved to {epoch_save_path}\")\n",
    "\n",
    "    for i, param_group in enumerate(optimizer.param_groups):\n",
    "        print(f\"Epoch {epoch+1}/{num_epochs}, Param Group {i} Learning Rate: {param_group['lr']:.6f}\")\n",
    "\n",
    "writer.close()\n"
   ]
  },
  {
   "cell_type": "markdown",
   "id": "af1c8733-1c9e-4eda-a581-584c23b1a9b3",
   "metadata": {},
   "source": [
    "#### Model Selection"
   ]
  },
  {
   "cell_type": "markdown",
   "id": "27767d99-db90-4441-9f8f-b41063d1c4b3",
   "metadata": {},
   "source": [
    "The model is selected based on the epoch with **largest** validation loss among epochs 50-100 with a validation accuracy greater than 0.99. This selection criterion is used because validation accuracy primarily reflects intra-domain performance, which does not necessarily correlate with cross-domain accuracy. The assumption is that a model with slightly weaker intra-domain accuracy might generalize better, potentially having better results in cross-domain scenarios."
   ]
  },
  {
   "cell_type": "code",
   "execution_count": 92,
   "id": "9a164f37-f07d-4c28-b21a-993eca0353a2",
   "metadata": {},
   "outputs": [
    {
     "name": "stdout",
     "output_type": "stream",
     "text": [
      "Model from epoch 76 with validation accuracy 0.9912 and validation loss 0.1399 copied to ./swin_model.pth.\n"
     ]
    }
   ],
   "source": [
    "import os\n",
    "import shutil\n",
    "\n",
    "# Filter epochs with validation accuracy over 0.99 starting from epoch 50\n",
    "start_epoch = 50\n",
    "end_epoch = num_epochs\n",
    "filtered_metrics = []\n",
    "for epoch in range(start_epoch - 1, end_epoch):\n",
    "    acc = val_accuracy_record[epoch]\n",
    "    if acc > 0.99:\n",
    "        filtered_metrics.append((epoch + 1, acc, val_loss_record[epoch]))\n",
    "\n",
    "\n",
    "if not filtered_metrics:\n",
    "    print(\"No epochs with validation accuracy above 0.99 in the specified range.\")\n",
    "else:\n",
    "    # Find the epoch with the largest validation loss among the filtered ones\n",
    "    worst_epoch, worst_val_accuracy, worst_val_loss = max(filtered_metrics, key=lambda x: x[2])\n",
    "    worst_model_path = os.path.join(save_dir, f'model_epoch_{worst_epoch}.pth')\n",
    "    destination_path = './swin_model.pth'\n",
    "    shutil.copy(worst_model_path, destination_path)\n",
    "\n",
    "    print(f\"Model from epoch {worst_epoch} with validation accuracy {worst_val_accuracy:.4f} \"\n",
    "          f\"and validation loss {worst_val_loss:.4f} copied to {destination_path}.\")\n"
   ]
  },
  {
   "cell_type": "markdown",
   "id": "a72d5066-5c47-49f5-a4df-3040b9255eb7",
   "metadata": {},
   "source": [
    "### Reproduction Code: The part of Classification using CLIP's Feature"
   ]
  },
  {
   "cell_type": "markdown",
   "id": "4cf1fa05-7221-4e7e-881a-25eb4173a062",
   "metadata": {},
   "source": [
    "#### Data Augmentation"
   ]
  },
  {
   "cell_type": "code",
   "execution_count": 20,
   "id": "e6df7a67-7b5d-42ce-afe8-f787a1436f01",
   "metadata": {},
   "outputs": [],
   "source": [
    "import os\n",
    "from PIL import Image\n",
    "import torchvision.transforms as transforms\n",
    "from torchvision.transforms.functional import ten_crop\n",
    "\n",
    "def apply_augmentations(input_dir, output_dir):\n",
    "    if not os.path.exists(output_dir):\n",
    "        os.makedirs(output_dir)\n",
    "\n",
    "    pad_transform = transforms.Pad(padding=(0, 0, 336, 336), fill=0)  # Padding to make the image at least 336x336\n",
    "    center_crop_transform = transforms.CenterCrop(336)  # Center crop to 336x336\n",
    "    flip_transform = transforms.RandomHorizontalFlip(p=1)  # Horizontal flip \n",
    "\n",
    "    for class_dir in os.listdir(input_dir):\n",
    "        class_path = os.path.join(input_dir, class_dir)\n",
    "        \n",
    "        if os.path.isdir(class_path):\n",
    "            output_class_dir = os.path.join(output_dir, class_dir)\n",
    "            if not os.path.exists(output_class_dir):\n",
    "                os.makedirs(output_class_dir)\n",
    "\n",
    "            for filename in os.listdir(class_path):\n",
    "                if filename.endswith('.jpg'):\n",
    "                    img_path = os.path.join(class_path, filename)\n",
    "                    img = Image.open(img_path)\n",
    "\n",
    "                    # Pad if the image is smaller than 336x336\n",
    "                    if img.width < 336 or img.height < 336:\n",
    "                        img = pad_transform(img)\n",
    "\n",
    "                    # Apply center crop\n",
    "                    cropped_img = center_crop_transform(img)\n",
    "                    cropped_img.save(os.path.join(output_class_dir, f'{filename}_center_crop.jpg'))\n",
    "\n",
    "                    # Apply horizontal flip\n",
    "                    flipped_img = flip_transform(cropped_img)\n",
    "                    flipped_img.save(os.path.join(output_class_dir, f'{filename}_flipped.jpg'))\n",
    "\n",
    "                    # TenCrop the image (Four corners and centre with horizontal flip)\n",
    "                    crops = ten_crop(img, size=(336, 336)) \n",
    "                    for idx, cropped_img in enumerate(crops):\n",
    "                        cropped_img.save(os.path.join(output_class_dir, f'{filename}_crop{idx}.jpg'))\n"
   ]
  },
  {
   "cell_type": "code",
   "execution_count": 21,
   "id": "d94174e6-5147-41a6-9b9f-6f258b78b1f9",
   "metadata": {},
   "outputs": [],
   "source": [
    "input_dir = f'{dataset_path}/train'\n",
    "output_dir = f'{dataset_path}/train_augmented'\n",
    "\n",
    "apply_augmentations(input_dir, output_dir)"
   ]
  },
  {
   "cell_type": "markdown",
   "id": "5b03a07c-03c1-4875-aebf-5c7900c9feb6",
   "metadata": {},
   "source": [
    "#### Model Training"
   ]
  },
  {
   "cell_type": "code",
   "execution_count": 23,
   "id": "ccf53434-79aa-45c1-a38c-24c79703b5ab",
   "metadata": {},
   "outputs": [],
   "source": [
    "import torch\n",
    "import clip\n",
    "from PIL import Image\n",
    "import os\n",
    "import numpy as np"
   ]
  },
  {
   "cell_type": "code",
   "execution_count": 24,
   "id": "a636663a-923a-4cc1-8d9b-2ee3b30f5a2a",
   "metadata": {},
   "outputs": [],
   "source": [
    "device = \"cuda\" if torch.cuda.is_available() else \"cpu\"\n",
    "model, preprocess = clip.load(\"ViT-L/14@336px\", device)"
   ]
  },
  {
   "cell_type": "code",
   "execution_count": 25,
   "id": "49738f79-952f-4612-a52a-c42452212729",
   "metadata": {},
   "outputs": [],
   "source": [
    "def load_and_extract_features(folder_path, model, preprocess, device):\n",
    "    features = []\n",
    "    labels = []\n",
    "    \n",
    "    for label in [\"0_real\", \"1_fake\"]:\n",
    "        folder = os.path.join(folder_path, label)\n",
    "        for filename in os.listdir(folder):\n",
    "            img_path = os.path.join(folder, filename)\n",
    "            img = Image.open(img_path).convert('RGB')\n",
    "            img_input = preprocess(img).unsqueeze(0).to(device)\n",
    "            with torch.no_grad():\n",
    "                feature = model.encode_image(img_input)\n",
    "            \n",
    "            features.append(feature.cpu().numpy().flatten())\n",
    "            labels.append(int(label[0])) \n",
    "    \n",
    "    return np.array(features), np.array(labels)\n"
   ]
  },
  {
   "cell_type": "code",
   "execution_count": 26,
   "id": "70be2c8d-a56a-4f7e-bfdf-ecd63592ad50",
   "metadata": {},
   "outputs": [],
   "source": [
    "train_features, train_labels = load_and_extract_features(f'{dataset_path}/train_augmented', model, preprocess, device)"
   ]
  },
  {
   "cell_type": "code",
   "execution_count": 27,
   "id": "be09d132-f786-4c2f-baf9-904a3800c865",
   "metadata": {},
   "outputs": [],
   "source": [
    "test_features, test_labels = load_and_extract_features(f'{dataset_path}/val', model, preprocess, device)"
   ]
  },
  {
   "cell_type": "code",
   "execution_count": 28,
   "id": "3fa2843e-6141-4124-bff0-ce3f34ae7ace",
   "metadata": {},
   "outputs": [],
   "source": [
    "import torch\n",
    "from sklearn.preprocessing import StandardScaler\n",
    "from sklearn.metrics import accuracy_score\n",
    "\n",
    "scaler = StandardScaler()\n",
    "train_features_scaled = scaler.fit_transform(train_features)\n",
    "test_features_scaled = scaler.transform(test_features)\n",
    "\n",
    "train_features_tensor = torch.tensor(train_features_scaled, dtype=torch.float32)\n",
    "test_features_tensor = torch.tensor(test_features_scaled, dtype=torch.float32)\n",
    "train_labels_tensor = torch.tensor(train_labels, dtype=torch.float32).view(-1, 1)\n",
    "test_labels_tensor = torch.tensor(test_labels, dtype=torch.float32).view(-1, 1)"
   ]
  },
  {
   "cell_type": "code",
   "execution_count": 29,
   "id": "42e7ca19-badb-4b8c-809d-07122d3acd16",
   "metadata": {},
   "outputs": [],
   "source": [
    "import pickle\n",
    "\n",
    "with open('trained_scaler.pkl', 'wb') as f:\n",
    "    pickle.dump((scaler), f)"
   ]
  },
  {
   "cell_type": "code",
   "execution_count": 30,
   "id": "874a2cba-d869-4f05-adcb-0f5a1f6d2015",
   "metadata": {},
   "outputs": [],
   "source": [
    "import torch.nn as nn\n",
    "import torch.optim as optim\n",
    "\n",
    "\n",
    "class ComplexClassifier(nn.Module):\n",
    "    def __init__(self, input_dim, hidden_dim=512, output_dim=1, dropout_rate=0.5):\n",
    "        super(ComplexClassifier, self).__init__()\n",
    "        self.fc1 = nn.Linear(input_dim, hidden_dim)\n",
    "        self.relu = nn.ReLU() \n",
    "        self.dropout = nn.Dropout(dropout_rate)\n",
    "        self.fc2 = nn.Linear(hidden_dim, output_dim)\n",
    "        self.sigmoid = nn.Sigmoid()\n",
    "\n",
    "    def forward(self, x):\n",
    "        x = self.relu(self.fc1(x))\n",
    "        x = self.dropout(x)\n",
    "        x = self.sigmoid(self.fc2(x))\n",
    "        \n",
    "        return x\n"
   ]
  },
  {
   "cell_type": "code",
   "execution_count": 31,
   "id": "1e5dde3e-f2e0-462b-b028-cd99dd40f698",
   "metadata": {},
   "outputs": [
    {
     "name": "stdout",
     "output_type": "stream",
     "text": [
      "Epoch [1/100], Loss: 0.7155\n",
      "Epoch [2/100], Loss: 0.6741\n",
      "Epoch [3/100], Loss: 0.6510\n",
      "Epoch [4/100], Loss: 0.6285\n",
      "Epoch [5/100], Loss: 0.5844\n",
      "Epoch [6/100], Loss: 0.5544\n",
      "Epoch [7/100], Loss: 0.5480\n",
      "Epoch [8/100], Loss: 0.5470\n",
      "Epoch [9/100], Loss: 0.5455\n",
      "Epoch [10/100], Loss: 0.5429\n",
      "Epoch [11/100], Loss: 0.5401\n",
      "Epoch [12/100], Loss: 0.5373\n",
      "Epoch [13/100], Loss: 0.5346\n",
      "Epoch [14/100], Loss: 0.5323\n",
      "Epoch [15/100], Loss: 0.5302\n",
      "Epoch [16/100], Loss: 0.5284\n",
      "Epoch [17/100], Loss: 0.5268\n",
      "Epoch [18/100], Loss: 0.5256\n",
      "Epoch [19/100], Loss: 0.5245\n",
      "Epoch [20/100], Loss: 0.5235\n",
      "Epoch [21/100], Loss: 0.5227\n",
      "Epoch [22/100], Loss: 0.5220\n",
      "Epoch [23/100], Loss: 0.5213\n",
      "Epoch [24/100], Loss: 0.5207\n",
      "Epoch [25/100], Loss: 0.5202\n",
      "Epoch [26/100], Loss: 0.5197\n",
      "Epoch [27/100], Loss: 0.5194\n",
      "Epoch [28/100], Loss: 0.5190\n",
      "Epoch [29/100], Loss: 0.5186\n",
      "Epoch [30/100], Loss: 0.5184\n",
      "Epoch [31/100], Loss: 0.5181\n",
      "Epoch [32/100], Loss: 0.5179\n",
      "Epoch [33/100], Loss: 0.5176\n",
      "Epoch [34/100], Loss: 0.5174\n",
      "Epoch [35/100], Loss: 0.5173\n",
      "Epoch [36/100], Loss: 0.5171\n",
      "Epoch [37/100], Loss: 0.5169\n",
      "Epoch [38/100], Loss: 0.5169\n",
      "Epoch [39/100], Loss: 0.5167\n",
      "Epoch [40/100], Loss: 0.5166\n",
      "Epoch [41/100], Loss: 0.5165\n",
      "Epoch [42/100], Loss: 0.5165\n",
      "Epoch [43/100], Loss: 0.5164\n",
      "Epoch [44/100], Loss: 0.5163\n",
      "Epoch [45/100], Loss: 0.5162\n",
      "Epoch [46/100], Loss: 0.5162\n",
      "Epoch [47/100], Loss: 0.5162\n",
      "Epoch [48/100], Loss: 0.5160\n",
      "Epoch [49/100], Loss: 0.5160\n",
      "Epoch [50/100], Loss: 0.5159\n",
      "Epoch [51/100], Loss: 0.5159\n",
      "Epoch [52/100], Loss: 0.5158\n",
      "Epoch [53/100], Loss: 0.5158\n",
      "Epoch [54/100], Loss: 0.5158\n",
      "Epoch [55/100], Loss: 0.5157\n",
      "Epoch [56/100], Loss: 0.5156\n",
      "Epoch [57/100], Loss: 0.5156\n",
      "Epoch [58/100], Loss: 0.5155\n",
      "Epoch [59/100], Loss: 0.5156\n",
      "Epoch [60/100], Loss: 0.5155\n",
      "Epoch [61/100], Loss: 0.5153\n",
      "Epoch [62/100], Loss: 0.5153\n",
      "Epoch [63/100], Loss: 0.5152\n",
      "Epoch [64/100], Loss: 0.5152\n",
      "Epoch [65/100], Loss: 0.5151\n",
      "Epoch [66/100], Loss: 0.5151\n",
      "Epoch [67/100], Loss: 0.5150\n",
      "Epoch [68/100], Loss: 0.5149\n",
      "Epoch [69/100], Loss: 0.5149\n",
      "Epoch [70/100], Loss: 0.5148\n",
      "Epoch [71/100], Loss: 0.5148\n",
      "Epoch [72/100], Loss: 0.5147\n",
      "Epoch [73/100], Loss: 0.5146\n",
      "Epoch [74/100], Loss: 0.5146\n",
      "Epoch [75/100], Loss: 0.5145\n",
      "Epoch [76/100], Loss: 0.5144\n",
      "Epoch [77/100], Loss: 0.5144\n",
      "Epoch [78/100], Loss: 0.5143\n",
      "Epoch [79/100], Loss: 0.5143\n",
      "Epoch [80/100], Loss: 0.5142\n",
      "Epoch [81/100], Loss: 0.5141\n",
      "Epoch [82/100], Loss: 0.5140\n",
      "Epoch [83/100], Loss: 0.5140\n",
      "Epoch [84/100], Loss: 0.5139\n",
      "Epoch [85/100], Loss: 0.5139\n",
      "Epoch [86/100], Loss: 0.5138\n",
      "Epoch [87/100], Loss: 0.5137\n",
      "Epoch [88/100], Loss: 0.5137\n",
      "Epoch [89/100], Loss: 0.5136\n",
      "Epoch [90/100], Loss: 0.5135\n",
      "Epoch [91/100], Loss: 0.5135\n",
      "Epoch [92/100], Loss: 0.5135\n",
      "Epoch [93/100], Loss: 0.5134\n",
      "Epoch [94/100], Loss: 0.5134\n",
      "Epoch [95/100], Loss: 0.5133\n",
      "Epoch [96/100], Loss: 0.5133\n",
      "Epoch [97/100], Loss: 0.5132\n",
      "Epoch [98/100], Loss: 0.5131\n",
      "Epoch [99/100], Loss: 0.5131\n",
      "Epoch [100/100], Loss: 0.5131\n"
     ]
    }
   ],
   "source": [
    "import torch\n",
    "import copy\n",
    "import torch.nn as nn\n",
    "import torch.optim as optim\n",
    "from torch.amp import autocast, GradScaler\n",
    "\n",
    "\n",
    "input_dim = train_features_tensor.shape[1]  \n",
    "model = ComplexClassifier(input_dim)\n",
    "model.to(device)\n",
    "criterion = nn.BCEWithLogitsLoss()  \n",
    "optimizer = optim.SGD(model.parameters(), lr=9e-1, momentum=0.99, weight_decay=1e-4)  \n",
    "scaler = GradScaler(\"cuda\")\n",
    "model_list = []\n",
    "\n",
    "num_epochs = 100\n",
    "for epoch in range(num_epochs):\n",
    "    model.train()\n",
    "    optimizer.zero_grad()\n",
    "    \n",
    "    with autocast(\"cuda\"):  \n",
    "        outputs = model(train_features_tensor.to(device))\n",
    "        loss = criterion(outputs, train_labels_tensor.to(device))\n",
    "\n",
    "    scaler.scale(loss).backward()  \n",
    "    scaler.step(optimizer)  \n",
    "    scaler.update()  \n",
    "    \n",
    "    model_list.append(copy.deepcopy(model.state_dict()))\n",
    "    print(f\"Epoch [{epoch+1}/{num_epochs}], Loss: {loss.item():.4f}\")\n"
   ]
  },
  {
   "cell_type": "code",
   "execution_count": 38,
   "id": "4cf878f0-0208-4a3e-bfe8-25d1cdc9ab0d",
   "metadata": {},
   "outputs": [
    {
     "name": "stdout",
     "output_type": "stream",
     "text": [
      "Epoch: 1\n",
      "Test Accuracy on Validation Set: 50.04%\n",
      "Epoch: 2\n",
      "Test Accuracy on Validation Set: 50.04%\n",
      "Epoch: 3\n",
      "Test Accuracy on Validation Set: 52.80%\n",
      "Epoch: 4\n",
      "Test Accuracy on Validation Set: 76.04%\n",
      "Epoch: 5\n",
      "Test Accuracy on Validation Set: 93.08%\n",
      "Epoch: 6\n",
      "Test Accuracy on Validation Set: 96.60%\n",
      "Epoch: 7\n",
      "Test Accuracy on Validation Set: 97.34%\n",
      "Epoch: 8\n",
      "Test Accuracy on Validation Set: 97.70%\n",
      "Epoch: 9\n",
      "Test Accuracy on Validation Set: 97.82%\n",
      "Epoch: 10\n",
      "Test Accuracy on Validation Set: 97.98%\n",
      "Epoch: 11\n",
      "Test Accuracy on Validation Set: 97.96%\n",
      "Epoch: 12\n",
      "Test Accuracy on Validation Set: 98.00%\n",
      "Epoch: 13\n",
      "Test Accuracy on Validation Set: 97.98%\n",
      "Epoch: 14\n",
      "Test Accuracy on Validation Set: 97.98%\n",
      "Epoch: 15\n",
      "Test Accuracy on Validation Set: 97.92%\n",
      "Epoch: 16\n",
      "Test Accuracy on Validation Set: 97.82%\n",
      "Epoch: 17\n",
      "Test Accuracy on Validation Set: 97.78%\n",
      "Epoch: 18\n",
      "Test Accuracy on Validation Set: 97.78%\n",
      "Epoch: 19\n",
      "Test Accuracy on Validation Set: 97.76%\n",
      "Epoch: 20\n",
      "Test Accuracy on Validation Set: 97.68%\n",
      "Epoch: 21\n",
      "Test Accuracy on Validation Set: 97.56%\n",
      "Epoch: 22\n",
      "Test Accuracy on Validation Set: 97.52%\n",
      "Epoch: 23\n",
      "Test Accuracy on Validation Set: 97.40%\n",
      "Epoch: 24\n",
      "Test Accuracy on Validation Set: 97.28%\n",
      "Epoch: 25\n",
      "Test Accuracy on Validation Set: 97.14%\n",
      "Epoch: 26\n",
      "Test Accuracy on Validation Set: 97.02%\n",
      "Epoch: 27\n",
      "Test Accuracy on Validation Set: 97.00%\n",
      "Epoch: 28\n",
      "Test Accuracy on Validation Set: 96.92%\n",
      "Epoch: 29\n",
      "Test Accuracy on Validation Set: 96.78%\n",
      "Epoch: 30\n",
      "Test Accuracy on Validation Set: 96.74%\n",
      "Epoch: 31\n",
      "Test Accuracy on Validation Set: 96.58%\n",
      "Epoch: 32\n",
      "Test Accuracy on Validation Set: 96.52%\n",
      "Epoch: 33\n",
      "Test Accuracy on Validation Set: 96.50%\n",
      "Epoch: 34\n",
      "Test Accuracy on Validation Set: 96.48%\n",
      "Epoch: 35\n",
      "Test Accuracy on Validation Set: 96.46%\n",
      "Epoch: 36\n",
      "Test Accuracy on Validation Set: 96.34%\n",
      "Epoch: 37\n",
      "Test Accuracy on Validation Set: 96.24%\n",
      "Epoch: 38\n",
      "Test Accuracy on Validation Set: 96.18%\n",
      "Epoch: 39\n",
      "Test Accuracy on Validation Set: 96.16%\n",
      "Epoch: 40\n",
      "Test Accuracy on Validation Set: 96.04%\n",
      "Epoch: 41\n",
      "Test Accuracy on Validation Set: 95.98%\n",
      "Epoch: 42\n",
      "Test Accuracy on Validation Set: 95.92%\n",
      "Epoch: 43\n",
      "Test Accuracy on Validation Set: 95.90%\n",
      "Epoch: 44\n",
      "Test Accuracy on Validation Set: 95.88%\n",
      "Epoch: 45\n",
      "Test Accuracy on Validation Set: 95.84%\n",
      "Epoch: 46\n",
      "Test Accuracy on Validation Set: 95.78%\n",
      "Epoch: 47\n",
      "Test Accuracy on Validation Set: 95.76%\n",
      "Epoch: 48\n",
      "Test Accuracy on Validation Set: 95.74%\n",
      "Epoch: 49\n",
      "Test Accuracy on Validation Set: 95.70%\n",
      "Epoch: 50\n",
      "Test Accuracy on Validation Set: 95.72%\n",
      "Epoch: 51\n",
      "Test Accuracy on Validation Set: 95.72%\n",
      "Epoch: 52\n",
      "Test Accuracy on Validation Set: 95.76%\n",
      "Epoch: 53\n",
      "Test Accuracy on Validation Set: 95.76%\n",
      "Epoch: 54\n",
      "Test Accuracy on Validation Set: 95.74%\n",
      "Epoch: 55\n",
      "Test Accuracy on Validation Set: 95.72%\n",
      "Epoch: 56\n",
      "Test Accuracy on Validation Set: 95.70%\n",
      "Epoch: 57\n",
      "Test Accuracy on Validation Set: 95.66%\n",
      "Epoch: 58\n",
      "Test Accuracy on Validation Set: 95.70%\n",
      "Epoch: 59\n",
      "Test Accuracy on Validation Set: 95.68%\n",
      "Epoch: 60\n",
      "Test Accuracy on Validation Set: 95.66%\n",
      "Epoch: 61\n",
      "Test Accuracy on Validation Set: 95.64%\n",
      "Epoch: 62\n",
      "Test Accuracy on Validation Set: 95.62%\n",
      "Epoch: 63\n",
      "Test Accuracy on Validation Set: 95.62%\n",
      "Epoch: 64\n",
      "Test Accuracy on Validation Set: 95.60%\n",
      "Epoch: 65\n",
      "Test Accuracy on Validation Set: 95.58%\n",
      "Epoch: 66\n",
      "Test Accuracy on Validation Set: 95.56%\n",
      "Epoch: 67\n",
      "Test Accuracy on Validation Set: 95.56%\n",
      "Epoch: 68\n",
      "Test Accuracy on Validation Set: 95.54%\n",
      "Epoch: 69\n",
      "Test Accuracy on Validation Set: 95.52%\n",
      "Epoch: 70\n",
      "Test Accuracy on Validation Set: 95.52%\n",
      "Epoch: 71\n",
      "Test Accuracy on Validation Set: 95.52%\n",
      "Epoch: 72\n",
      "Test Accuracy on Validation Set: 95.48%\n",
      "Epoch: 73\n",
      "Test Accuracy on Validation Set: 95.48%\n",
      "Epoch: 74\n",
      "Test Accuracy on Validation Set: 95.46%\n",
      "Epoch: 75\n",
      "Test Accuracy on Validation Set: 95.48%\n",
      "Epoch: 76\n",
      "Test Accuracy on Validation Set: 95.48%\n",
      "Epoch: 77\n",
      "Test Accuracy on Validation Set: 95.54%\n",
      "Epoch: 78\n",
      "Test Accuracy on Validation Set: 95.60%\n",
      "Epoch: 79\n",
      "Test Accuracy on Validation Set: 95.60%\n",
      "Epoch: 80\n",
      "Test Accuracy on Validation Set: 95.60%\n",
      "Epoch: 81\n",
      "Test Accuracy on Validation Set: 95.60%\n",
      "Epoch: 82\n",
      "Test Accuracy on Validation Set: 95.56%\n",
      "Epoch: 83\n",
      "Test Accuracy on Validation Set: 95.56%\n",
      "Epoch: 84\n",
      "Test Accuracy on Validation Set: 95.56%\n",
      "Epoch: 85\n",
      "Test Accuracy on Validation Set: 95.60%\n",
      "Epoch: 86\n",
      "Test Accuracy on Validation Set: 95.58%\n",
      "Epoch: 87\n",
      "Test Accuracy on Validation Set: 95.60%\n",
      "Epoch: 88\n",
      "Test Accuracy on Validation Set: 95.60%\n",
      "Epoch: 89\n",
      "Test Accuracy on Validation Set: 95.62%\n",
      "Epoch: 90\n",
      "Test Accuracy on Validation Set: 95.68%\n",
      "Epoch: 91\n",
      "Test Accuracy on Validation Set: 95.74%\n",
      "Epoch: 92\n",
      "Test Accuracy on Validation Set: 95.72%\n",
      "Epoch: 93\n",
      "Test Accuracy on Validation Set: 95.72%\n",
      "Epoch: 94\n",
      "Test Accuracy on Validation Set: 95.74%\n",
      "Epoch: 95\n",
      "Test Accuracy on Validation Set: 95.74%\n",
      "Epoch: 96\n",
      "Test Accuracy on Validation Set: 95.74%\n",
      "Epoch: 97\n",
      "Test Accuracy on Validation Set: 95.74%\n",
      "Epoch: 98\n",
      "Test Accuracy on Validation Set: 95.76%\n",
      "Epoch: 99\n",
      "Test Accuracy on Validation Set: 95.76%\n",
      "Epoch: 100\n",
      "Test Accuracy on Validation Set: 95.74%\n",
      "Model from epoch 12 with highest accuracy (98.00%) saved as ./model.pth.\n"
     ]
    }
   ],
   "source": [
    "best_accuracy = 0\n",
    "\n",
    "for i in range(num_epochs):\n",
    "    print(f\"Epoch: {i + 1}\")\n",
    "    \n",
    "    model.load_state_dict(model_list[i])\n",
    "    model.eval()\n",
    "    \n",
    "    with torch.no_grad():\n",
    "        test_outputs = model(test_features_tensor.to(device))\n",
    "        test_preds = (test_outputs > 0.5).float()\n",
    "        accuracy = accuracy_score(test_labels, test_preds.cpu())\n",
    "        print(f\"Test Accuracy on Validation Set: {accuracy * 100:.2f}%\")\n",
    "        \n",
    "        if accuracy > best_accuracy:\n",
    "            best_accuracy = accuracy\n",
    "            best_model_index = i\n",
    "\n",
    "if best_model_index != -1:\n",
    "    model.load_state_dict(model_list[best_model_index])\n",
    "    torch.save(model.state_dict(), './model.pth')\n",
    "    print(f\"Model from epoch {best_model_index + 1} with highest accuracy ({best_accuracy * 100:.2f}%) saved as ./model.pth.\")\n",
    "else:\n",
    "    print(\"No model to save.\")"
   ]
  },
  {
   "cell_type": "markdown",
   "id": "f6d23a6f-d2a1-464a-9245-029c016b249c",
   "metadata": {},
   "source": [
    "#### Model Selection"
   ]
  },
  {
   "cell_type": "markdown",
   "id": "f05f116e-0d84-4021-81ac-c20e4547dcd4",
   "metadata": {},
   "source": [
    "The model with best accuracy on the validation set is selected. This is simply because the CLIP is untrained to adapt to the AIGC detection task. Therefore, the accuracy on the validation set is assumed to be largely representing the accuracy of the test set."
   ]
  },
  {
   "cell_type": "markdown",
   "id": "a411b3c7-ec81-46e4-aa52-21a61339b610",
   "metadata": {},
   "source": [
    "## Test Code"
   ]
  },
  {
   "cell_type": "markdown",
   "id": "afb25c9a-25cf-4989-af92-3eb9e5f81811",
   "metadata": {},
   "source": [
    "### Template of the Test Code\n",
    "The test code template is shown below:"
   ]
  },
  {
   "cell_type": "code",
   "execution_count": 44,
   "id": "ce2da495-95da-43ad-80be-c6b17d1b8c06",
   "metadata": {},
   "outputs": [],
   "source": [
    "import tqdm\n",
    "import numpy as np\n",
    "from sklearn import metrics\n",
    "\n",
    "def test(model, swin_model, test_dataset_path):\n",
    "    device = torch.device('cuda' if torch.cuda.is_available() else 'cpu')\n",
    "    model = model.to(device)\n",
    "    model.eval()\n",
    "    \n",
    "    y_true = []\n",
    "    y_pred = []\n",
    "    test_dataset = data_loader(test_dataset_path)\n",
    "\n",
    "    with torch.no_grad():\n",
    "        for img_feature, image, label in tqdm(test_dataset, desc=\"Testing Progress\"):\n",
    "            output = model(img_feature)\n",
    "            clip_prob = output.item()\n",
    "\n",
    "            swin_output = swin_model(image.unsqueeze(dim=0).to(device))\n",
    "            swin_prob = torch.softmax(swin_output, dim=1)[0, 1].item()\n",
    "            combined_pred = float((0.489 * clip_prob + 0.511 * swin_prob) > 0.5)  # Model Ensembling\n",
    "            \n",
    "            y_true.append(label)\n",
    "            y_pred.append(combined_pred)\n",
    "\n",
    "    y_true = np.array(y_true)\n",
    "    y_pred = np.array(y_pred)\n",
    "\n",
    "    Accuracy = metrics.accuracy_score(y_true, y_pred)\n",
    "\n",
    "    return Accuracy"
   ]
  },
  {
   "cell_type": "markdown",
   "id": "cc5a90bb-8373-486d-b0b2-d8a7256f0807",
   "metadata": {},
   "source": [
    "### A demo of \"data_loader\" and \"model\"\n",
    "A demo of \"data_loader\" and \"model\" is shown below. You need to construct your own \"data_loader\" and \"model\"."
   ]
  },
  {
   "cell_type": "code",
   "execution_count": 46,
   "id": "a8b12a88-561a-4272-8381-d1a2f71f3032",
   "metadata": {},
   "outputs": [
    {
     "data": {
      "text/plain": [
       "<All keys matched successfully>"
      ]
     },
     "execution_count": 46,
     "metadata": {},
     "output_type": "execute_result"
    }
   ],
   "source": [
    "import torch\n",
    "import torch.nn as nn\n",
    "from torch.utils.data import Dataset, DataLoader\n",
    "import os\n",
    "from PIL import Image\n",
    "import torchvision.transforms as transforms\n",
    "from tqdm import tqdm\n",
    "import clip\n",
    "import pickle\n",
    "import timm\n",
    "\n",
    "class data_loader(Dataset):\n",
    "    def __init__(self, data_dir):\n",
    "        self.model, self.preprocess = clip.load(\"ViT-L/14@336px\", \"cuda\")\n",
    "        \n",
    "        real_dir = os.path.join(data_dir, '0_real')\n",
    "        fake_dir = os.path.join(data_dir, '1_fake')\n",
    "        \n",
    "        self.real_images = [os.path.join(real_dir, f) for f in os.listdir(real_dir)]\n",
    "        self.fake_images = [os.path.join(fake_dir, f) for f in os.listdir(fake_dir)]\n",
    "        self.image_paths = self.real_images + self.fake_images\n",
    "        self.labels = [0] * len(self.real_images) + [1] * len(self.fake_images)\n",
    "\n",
    "        with open('trained_scaler.pkl', 'rb') as f:\n",
    "            self.scaler = pickle.load(f)\n",
    "\n",
    "        self.swin_transform = transforms.Compose([\n",
    "            transforms.Resize(256),\n",
    "            transforms.CenterCrop(256),\n",
    "            transforms.ToTensor(),\n",
    "            transforms.Normalize(\n",
    "                mean=[0.4812, 0.4579, 0.4188],\n",
    "                std=[0.2483, 0.2425, 0.2466]\n",
    "            )\n",
    "        ])\n",
    "\n",
    "    def __len__(self):\n",
    "        return len(self.image_paths)\n",
    "\n",
    "    def __getitem__(self, idx):\n",
    "        image_path = self.image_paths[idx]\n",
    "        image = Image.open(image_path).convert('RGB')\n",
    "        label = self.labels[idx]\n",
    "        encoded_image = self.model.encode_image(self.preprocess(image).unsqueeze(dim=0).to(torch.device(\"cuda\")))\n",
    "        encoded_image = encoded_image.cpu().detach().numpy().reshape(1, -1)  # Reshape to 2D for scaler\n",
    "        img_feature = self.scaler.transform(encoded_image)[0]\n",
    "        img_feature_tensor = torch.tensor(img_feature).to(torch.device(\"cuda\"))\n",
    "        img_feature_tensor = img_feature_tensor.to(torch.float32) \n",
    "        image = self.swin_transform(image)\n",
    "        return img_feature_tensor, image, label\n",
    "\n",
    "class ComplexClassifier(nn.Module):\n",
    "    def __init__(self, input_dim, hidden_dim=512, output_dim=1):\n",
    "        super(ComplexClassifier, self).__init__()\n",
    "        self.fc1 = nn.Linear(input_dim, hidden_dim) \n",
    "        self.relu = nn.ReLU() \n",
    "        self.fc2 = nn.Linear(hidden_dim, output_dim)\n",
    "        self.sigmoid = nn.Sigmoid()\n",
    "\n",
    "    def forward(self, x):\n",
    "        x = self.relu(self.fc1(x))\n",
    "        x = self.sigmoid(self.fc2(x))\n",
    "        return x\n",
    "\n",
    "swin_model = timm.create_model(\n",
    "    \"swinv2_small_window16_256\",\n",
    "    pretrained=False,\n",
    "    num_classes=2\n",
    ").to(torch.device(\"cuda\"))\n",
    "\n",
    "swin_model.load_state_dict(torch.load('./swin_model.pth', weights_only=True))\n",
    "\n",
    "\n",
    "model = ComplexClassifier(768).to(torch.device(\"cuda\"))\n",
    "model_path = './model.pth'\n",
    "model.load_state_dict(torch.load(model_path, weights_only=True))"
   ]
  },
  {
   "cell_type": "markdown",
   "id": "5237c01c-184a-4e78-bc69-a07c4b425acd",
   "metadata": {},
   "source": [
    "### Testing Result"
   ]
  },
  {
   "cell_type": "code",
   "execution_count": 49,
   "id": "f580c2c9-8bb6-43be-b02a-bf282c8e0f1e",
   "metadata": {},
   "outputs": [
    {
     "name": "stderr",
     "output_type": "stream",
     "text": [
      "Testing Progress: 100%|██████████| 5000/5000 [03:44<00:00, 22.27it/s]\n"
     ]
    },
    {
     "data": {
      "text/plain": [
       "0.989"
      ]
     },
     "execution_count": 49,
     "metadata": {},
     "output_type": "execute_result"
    }
   ],
   "source": [
    "test_dataset_path = f'{dataset_path}/val'\n",
    "test(model, swin_model, test_dataset_path)"
   ]
  }
 ],
 "metadata": {
  "kernelspec": {
   "display_name": "Python 3 (ipykernel)",
   "language": "python",
   "name": "python3"
  },
  "language_info": {
   "codemirror_mode": {
    "name": "ipython",
    "version": 3
   },
   "file_extension": ".py",
   "mimetype": "text/x-python",
   "name": "python",
   "nbconvert_exporter": "python",
   "pygments_lexer": "ipython3",
   "version": "3.12.7"
  }
 },
 "nbformat": 4,
 "nbformat_minor": 5
}
